{
 "cells": [
  {
   "cell_type": "code",
   "execution_count": 1,
   "id": "e415ef5e",
   "metadata": {},
   "outputs": [],
   "source": [
    "import pandas as pd\n",
    "import altair as alt"
   ]
  },
  {
   "cell_type": "markdown",
   "id": "07264fa3",
   "metadata": {},
   "source": [
    "This is an analysis of Eurostat labour market data, with a focus on groups defined by migration experience\n",
    "\n",
    "Popular assumptions:\n",
    "* \"It's the market\": migrants are underemployed when there are too few jobs for all -> vacancy data;\n",
    "* Any gaps between migrants and natives are explained by citizenship rights -> comparing country of birth and citizenship data;\n",
    "* Unfilled vacancies are mainly in the highly regulated sectors (e.g. healthcare), because of stringent criteria -> vacancy data"
   ]
  },
  {
   "cell_type": "markdown",
   "id": "a2f66fac",
   "metadata": {},
   "source": [
    "# 1. Data import and preparation\n",
    "\n",
    "## 1.1. Employment rate"
   ]
  },
  {
   "cell_type": "code",
   "execution_count": 2,
   "id": "791cdf33",
   "metadata": {},
   "outputs": [
    {
     "data": {
      "text/html": [
       "<div>\n",
       "<style scoped>\n",
       "    .dataframe tbody tr th:only-of-type {\n",
       "        vertical-align: middle;\n",
       "    }\n",
       "\n",
       "    .dataframe tbody tr th {\n",
       "        vertical-align: top;\n",
       "    }\n",
       "\n",
       "    .dataframe thead th {\n",
       "        text-align: right;\n",
       "    }\n",
       "</style>\n",
       "<table border=\"1\" class=\"dataframe\">\n",
       "  <thead>\n",
       "    <tr style=\"text-align: right;\">\n",
       "      <th></th>\n",
       "      <th>citizen</th>\n",
       "      <th>mgstatus</th>\n",
       "      <th>geo</th>\n",
       "      <th>OBS_VALUE</th>\n",
       "    </tr>\n",
       "  </thead>\n",
       "  <tbody>\n",
       "    <tr>\n",
       "      <th>366</th>\n",
       "      <td>TOTAL</td>\n",
       "      <td>NBO</td>\n",
       "      <td>HR</td>\n",
       "      <td>84.3</td>\n",
       "    </tr>\n",
       "    <tr>\n",
       "      <th>76</th>\n",
       "      <td>EU27_2020_FOR</td>\n",
       "      <td>TOTAL</td>\n",
       "      <td>RO</td>\n",
       "      <td>NaN</td>\n",
       "    </tr>\n",
       "    <tr>\n",
       "      <th>390</th>\n",
       "      <td>TOTAL</td>\n",
       "      <td>TOTAL</td>\n",
       "      <td>ES</td>\n",
       "      <td>81.3</td>\n",
       "    </tr>\n",
       "    <tr>\n",
       "      <th>261</th>\n",
       "      <td>NEU27_2020_FOR</td>\n",
       "      <td>FBO</td>\n",
       "      <td>IE</td>\n",
       "      <td>80.7</td>\n",
       "    </tr>\n",
       "    <tr>\n",
       "      <th>125</th>\n",
       "      <td>FOR</td>\n",
       "      <td>NBO</td>\n",
       "      <td>LU</td>\n",
       "      <td>78.1</td>\n",
       "    </tr>\n",
       "  </tbody>\n",
       "</table>\n",
       "</div>"
      ],
      "text/plain": [
       "            citizen mgstatus geo  OBS_VALUE\n",
       "366           TOTAL      NBO  HR       84.3\n",
       "76    EU27_2020_FOR    TOTAL  RO        NaN\n",
       "390           TOTAL    TOTAL  ES       81.3\n",
       "261  NEU27_2020_FOR      FBO  IE       80.7\n",
       "125             FOR      NBO  LU       78.1"
      ]
     },
     "execution_count": 2,
     "metadata": {},
     "output_type": "execute_result"
    }
   ],
   "source": [
    "# Loading the Eurostat CSV file\n",
    "# Source: https://ec.europa.eu/eurostat/databrowser/view/lfsa_erganedm__custom_8269150/default/table?lang=en\n",
    "\n",
    "keep_columns = [\"citizen\", \"mgstatus\", \"geo\", \"OBS_VALUE\"]\n",
    "\n",
    "# load the data only reading the chosen columns\n",
    "df = pd.read_csv(\"data/erganedm_tert_cit.csv\", usecols=keep_columns) # adapt to location\n",
    "\n",
    "df.sample(5)"
   ]
  },
  {
   "cell_type": "code",
   "execution_count": 3,
   "id": "b654c16a",
   "metadata": {},
   "outputs": [],
   "source": [
    "# Convert numeric values, turning missing values into NaN\n",
    "df[\"OBS_VALUE\"] = pd.to_numeric(df[\"OBS_VALUE\"], errors='coerce')"
   ]
  },
  {
   "cell_type": "markdown",
   "id": "89044c63",
   "metadata": {},
   "source": [
    "## 1.2. Overqualification rate"
   ]
  },
  {
   "cell_type": "code",
   "execution_count": 4,
   "id": "872cb87d",
   "metadata": {},
   "outputs": [
    {
     "data": {
      "text/html": [
       "<div>\n",
       "<style scoped>\n",
       "    .dataframe tbody tr th:only-of-type {\n",
       "        vertical-align: middle;\n",
       "    }\n",
       "\n",
       "    .dataframe tbody tr th {\n",
       "        vertical-align: top;\n",
       "    }\n",
       "\n",
       "    .dataframe thead th {\n",
       "        text-align: right;\n",
       "    }\n",
       "</style>\n",
       "<table border=\"1\" class=\"dataframe\">\n",
       "  <thead>\n",
       "    <tr style=\"text-align: right;\">\n",
       "      <th></th>\n",
       "      <th>citizen</th>\n",
       "      <th>geo</th>\n",
       "      <th>OBS_VALUE</th>\n",
       "    </tr>\n",
       "  </thead>\n",
       "  <tbody>\n",
       "    <tr>\n",
       "      <th>112</th>\n",
       "      <td>TOTAL</td>\n",
       "      <td>AT</td>\n",
       "      <td>27.7</td>\n",
       "    </tr>\n",
       "    <tr>\n",
       "      <th>83</th>\n",
       "      <td>NAT</td>\n",
       "      <td>SK</td>\n",
       "      <td>23.3</td>\n",
       "    </tr>\n",
       "    <tr>\n",
       "      <th>75</th>\n",
       "      <td>NAT</td>\n",
       "      <td>LV</td>\n",
       "      <td>17.7</td>\n",
       "    </tr>\n",
       "    <tr>\n",
       "      <th>10</th>\n",
       "      <td>EU27_2020_FOR</td>\n",
       "      <td>EU27_2020</td>\n",
       "      <td>31.8</td>\n",
       "    </tr>\n",
       "    <tr>\n",
       "      <th>106</th>\n",
       "      <td>NEU27_2020_FOR</td>\n",
       "      <td>PL</td>\n",
       "      <td>40.9</td>\n",
       "    </tr>\n",
       "  </tbody>\n",
       "</table>\n",
       "</div>"
      ],
      "text/plain": [
       "            citizen        geo  OBS_VALUE\n",
       "112           TOTAL         AT       27.7\n",
       "83              NAT         SK       23.3\n",
       "75              NAT         LV       17.7\n",
       "10    EU27_2020_FOR  EU27_2020       31.8\n",
       "106  NEU27_2020_FOR         PL       40.9"
      ]
     },
     "execution_count": 4,
     "metadata": {},
     "output_type": "execute_result"
    }
   ],
   "source": [
    "# Loading the Eurostat CSV file\n",
    "# Source: https://ec.europa.eu/eurostat/databrowser/view/lfsa_eoqgan__custom_8275571/default/table?lang=en\n",
    "\n",
    "keep_columns = [\"citizen\", \"geo\", \"OBS_VALUE\"]\n",
    "\n",
    "# load the data only reading the chosen columns\n",
    "dfo = pd.read_csv(\"data/eoqgan_overqual_cit.csv\", usecols=keep_columns) # adapt to location\n",
    "\n",
    "dfo.sample(5)"
   ]
  },
  {
   "cell_type": "code",
   "execution_count": 5,
   "id": "3f0aaf33",
   "metadata": {},
   "outputs": [],
   "source": [
    "# Convert numeric values, turning missing values into NaN\n",
    "dfo[\"OBS_VALUE\"] = pd.to_numeric(df[\"OBS_VALUE\"], errors='coerce')"
   ]
  },
  {
   "cell_type": "markdown",
   "id": "91c218d8",
   "metadata": {},
   "source": [
    "## 1.3. Vacancy rate"
   ]
  },
  {
   "cell_type": "code",
   "execution_count": 6,
   "id": "6d7f9223",
   "metadata": {},
   "outputs": [
    {
     "data": {
      "text/html": [
       "<div>\n",
       "<style scoped>\n",
       "    .dataframe tbody tr th:only-of-type {\n",
       "        vertical-align: middle;\n",
       "    }\n",
       "\n",
       "    .dataframe tbody tr th {\n",
       "        vertical-align: top;\n",
       "    }\n",
       "\n",
       "    .dataframe thead th {\n",
       "        text-align: right;\n",
       "    }\n",
       "</style>\n",
       "<table border=\"1\" class=\"dataframe\">\n",
       "  <thead>\n",
       "    <tr style=\"text-align: right;\">\n",
       "      <th></th>\n",
       "      <th>nace_r2</th>\n",
       "      <th>geo</th>\n",
       "      <th>OBS_VALUE</th>\n",
       "    </tr>\n",
       "  </thead>\n",
       "  <tbody>\n",
       "    <tr>\n",
       "      <th>20</th>\n",
       "      <td>J</td>\n",
       "      <td>NL</td>\n",
       "      <td>7.6</td>\n",
       "    </tr>\n",
       "    <tr>\n",
       "      <th>51</th>\n",
       "      <td>K</td>\n",
       "      <td>SE</td>\n",
       "      <td>3.1</td>\n",
       "    </tr>\n",
       "    <tr>\n",
       "      <th>125</th>\n",
       "      <td>Q</td>\n",
       "      <td>PL</td>\n",
       "      <td>0.8</td>\n",
       "    </tr>\n",
       "    <tr>\n",
       "      <th>130</th>\n",
       "      <td>Q</td>\n",
       "      <td>SK</td>\n",
       "      <td>0.7</td>\n",
       "    </tr>\n",
       "    <tr>\n",
       "      <th>127</th>\n",
       "      <td>Q</td>\n",
       "      <td>RO</td>\n",
       "      <td>1.1</td>\n",
       "    </tr>\n",
       "  </tbody>\n",
       "</table>\n",
       "</div>"
      ],
      "text/plain": [
       "    nace_r2 geo  OBS_VALUE\n",
       "20        J  NL        7.6\n",
       "51        K  SE        3.1\n",
       "125       Q  PL        0.8\n",
       "130       Q  SK        0.7\n",
       "127       Q  RO        1.1"
      ]
     },
     "execution_count": 6,
     "metadata": {},
     "output_type": "execute_result"
    }
   ],
   "source": [
    "# Loading the Eurostat CSV file\n",
    "# Source: https://ec.europa.eu/eurostat/databrowser/view/jvs_a_rate_r2__custom_8276608/default/table?lang=en\n",
    "\n",
    "keep_columns = [\"nace_r2\", \"geo\", \"OBS_VALUE\"]\n",
    "\n",
    "# load the data only reading the chosen columns\n",
    "dfv = pd.read_csv(\"data/vacancy_rate.csv\", usecols=keep_columns) # adapt to location\n",
    "\n",
    "dfv.sample(5)"
   ]
  },
  {
   "cell_type": "code",
   "execution_count": 7,
   "id": "3a19cf95",
   "metadata": {},
   "outputs": [],
   "source": [
    "# Convert numeric values, turning missing values into NaN\n",
    "dfv[\"OBS_VALUE\"] = pd.to_numeric(dfv[\"OBS_VALUE\"], errors='coerce')"
   ]
  },
  {
   "cell_type": "code",
   "execution_count": 8,
   "id": "51971b9b",
   "metadata": {},
   "outputs": [
    {
     "data": {
      "text/plain": [
       "array(['J', 'K', 'M', 'P', 'Q'], dtype=object)"
      ]
     },
     "execution_count": 8,
     "metadata": {},
     "output_type": "execute_result"
    }
   ],
   "source": [
    "dfv.nace_r2.unique()"
   ]
  },
  {
   "cell_type": "code",
   "execution_count": 9,
   "id": "39ad4d3b",
   "metadata": {},
   "outputs": [],
   "source": [
    "# Rename categories as the labels are confusing\n",
    "dfv = dfv.replace(['J', 'K', 'M', 'P', 'Q'],[\"InfoCom\", \"Finance\", \"ProfSciTech\", \"Education\", \"HealthSocWork\"])"
   ]
  },
  {
   "cell_type": "code",
   "execution_count": 10,
   "id": "cc0e6e1a",
   "metadata": {},
   "outputs": [
    {
     "data": {
      "text/html": [
       "<div>\n",
       "<style scoped>\n",
       "    .dataframe tbody tr th:only-of-type {\n",
       "        vertical-align: middle;\n",
       "    }\n",
       "\n",
       "    .dataframe tbody tr th {\n",
       "        vertical-align: top;\n",
       "    }\n",
       "\n",
       "    .dataframe thead th {\n",
       "        text-align: right;\n",
       "    }\n",
       "</style>\n",
       "<table border=\"1\" class=\"dataframe\">\n",
       "  <thead>\n",
       "    <tr style=\"text-align: right;\">\n",
       "      <th></th>\n",
       "      <th>nace_r2</th>\n",
       "      <th>geo</th>\n",
       "      <th>OBS_VALUE</th>\n",
       "    </tr>\n",
       "  </thead>\n",
       "  <tbody>\n",
       "    <tr>\n",
       "      <th>124</th>\n",
       "      <td>HealthSocWork</td>\n",
       "      <td>NL</td>\n",
       "      <td>4.2</td>\n",
       "    </tr>\n",
       "    <tr>\n",
       "      <th>25</th>\n",
       "      <td>InfoCom</td>\n",
       "      <td>SI</td>\n",
       "      <td>3.4</td>\n",
       "    </tr>\n",
       "    <tr>\n",
       "      <th>105</th>\n",
       "      <td>Education</td>\n",
       "      <td>SK</td>\n",
       "      <td>0.2</td>\n",
       "    </tr>\n",
       "    <tr>\n",
       "      <th>69</th>\n",
       "      <td>ProfSciTech</td>\n",
       "      <td>IT</td>\n",
       "      <td>2.9</td>\n",
       "    </tr>\n",
       "    <tr>\n",
       "      <th>21</th>\n",
       "      <td>InfoCom</td>\n",
       "      <td>PL</td>\n",
       "      <td>3.5</td>\n",
       "    </tr>\n",
       "  </tbody>\n",
       "</table>\n",
       "</div>"
      ],
      "text/plain": [
       "           nace_r2 geo  OBS_VALUE\n",
       "124  HealthSocWork  NL        4.2\n",
       "25         InfoCom  SI        3.4\n",
       "105      Education  SK        0.2\n",
       "69     ProfSciTech  IT        2.9\n",
       "21         InfoCom  PL        3.5"
      ]
     },
     "execution_count": 10,
     "metadata": {},
     "output_type": "execute_result"
    }
   ],
   "source": [
    "dfv.sample(5)"
   ]
  },
  {
   "cell_type": "markdown",
   "id": "be69182f",
   "metadata": {},
   "source": [
    "# 2. Calculation of employment gaps\n",
    "\n",
    "## 2.1. By citizenship -- all foreign nationals"
   ]
  },
  {
   "cell_type": "code",
   "execution_count": 11,
   "id": "d948304c",
   "metadata": {},
   "outputs": [
    {
     "data": {
      "text/plain": [
       "array(['EU27_2020_FOR', 'FOR', 'NAT', 'NEU27_2020_FOR', 'TOTAL'],\n",
       "      dtype=object)"
      ]
     },
     "execution_count": 11,
     "metadata": {},
     "output_type": "execute_result"
    }
   ],
   "source": [
    "df.citizen.unique() # Display the citizenship categories"
   ]
  },
  {
   "cell_type": "code",
   "execution_count": 12,
   "id": "7402b2e5",
   "metadata": {},
   "outputs": [],
   "source": [
    "# Creating a pivot table\n",
    "gapcit = df[df.mgstatus == \"TOTAL\"].pivot_table('OBS_VALUE', ['geo'], 'citizen')"
   ]
  },
  {
   "cell_type": "code",
   "execution_count": 13,
   "id": "933f0e0f",
   "metadata": {},
   "outputs": [
    {
     "data": {
      "text/plain": [
       "geo\n",
       "FR    16.1\n",
       "EL    15.3\n",
       "DE    15.2\n",
       "LV    14.4\n",
       "EE    14.2\n",
       "Name: GapAll, dtype: float64"
      ]
     },
     "execution_count": 13,
     "metadata": {},
     "output_type": "execute_result"
    }
   ],
   "source": [
    "gapcit[\"GapAll\"] = gapcit[\"NAT\"] - gapcit[\"FOR\"] #native-born minus foreign-born (EU and non-EU)\n",
    "\n",
    "# The gap is measured in percentage points. Positive values mean native advantage\n",
    "\n",
    "# Finding countries with the largest gaps\n",
    "gapcit[\"GapAll\"].sort_values(ascending = False).head(5)"
   ]
  },
  {
   "cell_type": "markdown",
   "id": "8c90e636",
   "metadata": {},
   "source": [
    "## 2.2. By citizenship -- non-EU nationals"
   ]
  },
  {
   "cell_type": "code",
   "execution_count": 14,
   "id": "f7fa4b96",
   "metadata": {},
   "outputs": [
    {
     "data": {
      "text/plain": [
       "geo\n",
       "DE    22.9\n",
       "FR    21.8\n",
       "CY    21.2\n",
       "NL    20.1\n",
       "BE    20.1\n",
       "Name: GapNEU, dtype: float64"
      ]
     },
     "execution_count": 14,
     "metadata": {},
     "output_type": "execute_result"
    }
   ],
   "source": [
    "gapcit[\"GapNEU\"] = gapcit[\"NAT\"] - gapcit[\"NEU27_2020_FOR\"] # native-born minus non-EU only\n",
    "# Finding countries with the largest gaps\n",
    "gapcit[\"GapNEU\"].sort_values(ascending = False).head(5)"
   ]
  },
  {
   "cell_type": "markdown",
   "id": "58d9abf2",
   "metadata": {},
   "source": [
    "## 2.3. By migration status"
   ]
  },
  {
   "cell_type": "code",
   "execution_count": 15,
   "id": "b09fc0d6",
   "metadata": {},
   "outputs": [
    {
     "data": {
      "text/plain": [
       "array(['FBO', 'NBO', 'TOTAL'], dtype=object)"
      ]
     },
     "execution_count": 15,
     "metadata": {},
     "output_type": "execute_result"
    }
   ],
   "source": [
    "df.mgstatus.unique() # Display the migration categories"
   ]
  },
  {
   "cell_type": "code",
   "execution_count": 16,
   "id": "0a20bd3c",
   "metadata": {},
   "outputs": [],
   "source": [
    "# Creating a pivot table\n",
    "gapmgr = df[df.citizen == \"TOTAL\"].pivot_table('OBS_VALUE', ['geo'], 'mgstatus')"
   ]
  },
  {
   "cell_type": "code",
   "execution_count": 17,
   "id": "48049046",
   "metadata": {},
   "outputs": [
    {
     "data": {
      "text/plain": [
       "geo\n",
       "BG    18.7\n",
       "RO    16.3\n",
       "LV    14.2\n",
       "FR    13.2\n",
       "DE    12.7\n",
       "Name: GapMgr, dtype: float64"
      ]
     },
     "execution_count": 17,
     "metadata": {},
     "output_type": "execute_result"
    }
   ],
   "source": [
    "gapmgr[\"GapMgr\"] = gapmgr[\"NBO\"] - gapmgr[\"FBO\"] # native-born minus foreign-born\n",
    "# The gap is measured in percentage points. Positive values mean native advantage\n",
    "\n",
    "# Finding countries with the largest gaps\n",
    "gapmgr[\"GapMgr\"].sort_values(ascending = False).head(5)"
   ]
  },
  {
   "cell_type": "markdown",
   "id": "412fa47d",
   "metadata": {},
   "source": [
    "# 3. Calculation of overqualification gaps\n",
    "\n",
    "## 3.1. All foreign nationals"
   ]
  },
  {
   "cell_type": "code",
   "execution_count": 18,
   "id": "ce60e7c1",
   "metadata": {},
   "outputs": [],
   "source": [
    "# Creating a pivot table\n",
    "gapoq = dfo.pivot_table('OBS_VALUE', ['geo'], 'citizen')"
   ]
  },
  {
   "cell_type": "code",
   "execution_count": 19,
   "id": "4cc389c5",
   "metadata": {},
   "outputs": [
    {
     "data": {
      "text/plain": [
       "geo\n",
       "EL    14.0\n",
       "IT    11.2\n",
       "AT     5.7\n",
       "ES     4.8\n",
       "BE    -2.7\n",
       "Name: GapOQ, dtype: float64"
      ]
     },
     "execution_count": 19,
     "metadata": {},
     "output_type": "execute_result"
    }
   ],
   "source": [
    "gapoq[\"GapOQ\"] = gapoq[\"NAT\"] - gapoq[\"FOR\"] # native-born minus foreign-born (EU and non-EU)\n",
    "\n",
    "# The gap is measured in percentage points. Positive values mean native advantage\n",
    "\n",
    "# Finding countries with the largest gaps\n",
    "gapoq[\"GapOQ\"].sort_values(ascending = False).head(5)"
   ]
  },
  {
   "cell_type": "markdown",
   "id": "fd8cbef7",
   "metadata": {},
   "source": [
    "## 3.2. Non-EU nationals"
   ]
  },
  {
   "cell_type": "code",
   "execution_count": 21,
   "id": "0bb2a420",
   "metadata": {},
   "outputs": [
    {
     "data": {
      "text/plain": [
       "geo\n",
       "EL    15.9\n",
       "LV    14.0\n",
       "BE    12.8\n",
       "HR    11.0\n",
       "DK     9.9\n",
       "Name: GapONEU, dtype: float64"
      ]
     },
     "execution_count": 21,
     "metadata": {},
     "output_type": "execute_result"
    }
   ],
   "source": [
    "gapoq[\"GapONEU\"] = gapoq[\"NAT\"] - gapoq[\"NEU27_2020_FOR\"] # native-born minus non-EU only\n",
    "\n",
    "# The gap is measured in percentage points. Positive values mean native advantage\n",
    "\n",
    "# Finding countries with the largest gaps\n",
    "gapoq[\"GapONEU\"].sort_values(ascending = False).head(5)"
   ]
  },
  {
   "cell_type": "code",
   "execution_count": 22,
   "id": "4030fd6a",
   "metadata": {},
   "outputs": [],
   "source": [
    "data_frames = [gapcit, gapmgr, gapoq]\n",
    "gapdata = pd.concat(data_frames, join='outer', axis=1)\n",
    "col_list = ['GapAll','GapNEU','GapMgr','GapOQ', 'GapONEU']\n",
    "gapdata = gapdata[col_list]"
   ]
  },
  {
   "cell_type": "code",
   "execution_count": 23,
   "id": "e6ef1050",
   "metadata": {},
   "outputs": [
    {
     "data": {
      "text/html": [
       "<div>\n",
       "<style scoped>\n",
       "    .dataframe tbody tr th:only-of-type {\n",
       "        vertical-align: middle;\n",
       "    }\n",
       "\n",
       "    .dataframe tbody tr th {\n",
       "        vertical-align: top;\n",
       "    }\n",
       "\n",
       "    .dataframe thead th {\n",
       "        text-align: right;\n",
       "    }\n",
       "</style>\n",
       "<table border=\"1\" class=\"dataframe\">\n",
       "  <thead>\n",
       "    <tr style=\"text-align: right;\">\n",
       "      <th></th>\n",
       "      <th>GapAll</th>\n",
       "      <th>GapNEU</th>\n",
       "      <th>GapMgr</th>\n",
       "      <th>GapOQ</th>\n",
       "      <th>GapONEU</th>\n",
       "    </tr>\n",
       "    <tr>\n",
       "      <th>geo</th>\n",
       "      <th></th>\n",
       "      <th></th>\n",
       "      <th></th>\n",
       "      <th></th>\n",
       "      <th></th>\n",
       "    </tr>\n",
       "  </thead>\n",
       "  <tbody>\n",
       "    <tr>\n",
       "      <th>EL</th>\n",
       "      <td>15.3</td>\n",
       "      <td>19.6</td>\n",
       "      <td>8.0</td>\n",
       "      <td>14.0</td>\n",
       "      <td>15.9</td>\n",
       "    </tr>\n",
       "    <tr>\n",
       "      <th>LV</th>\n",
       "      <td>14.4</td>\n",
       "      <td>15.4</td>\n",
       "      <td>14.2</td>\n",
       "      <td>NaN</td>\n",
       "      <td>14.0</td>\n",
       "    </tr>\n",
       "    <tr>\n",
       "      <th>BE</th>\n",
       "      <td>6.0</td>\n",
       "      <td>20.1</td>\n",
       "      <td>6.8</td>\n",
       "      <td>-2.7</td>\n",
       "      <td>12.8</td>\n",
       "    </tr>\n",
       "    <tr>\n",
       "      <th>HR</th>\n",
       "      <td>-3.2</td>\n",
       "      <td>3.5</td>\n",
       "      <td>-4.7</td>\n",
       "      <td>NaN</td>\n",
       "      <td>11.0</td>\n",
       "    </tr>\n",
       "    <tr>\n",
       "      <th>DK</th>\n",
       "      <td>6.6</td>\n",
       "      <td>8.6</td>\n",
       "      <td>5.9</td>\n",
       "      <td>NaN</td>\n",
       "      <td>9.9</td>\n",
       "    </tr>\n",
       "  </tbody>\n",
       "</table>\n",
       "</div>"
      ],
      "text/plain": [
       "     GapAll  GapNEU  GapMgr  GapOQ  GapONEU\n",
       "geo                                        \n",
       "EL     15.3    19.6     8.0   14.0     15.9\n",
       "LV     14.4    15.4    14.2    NaN     14.0\n",
       "BE      6.0    20.1     6.8   -2.7     12.8\n",
       "HR     -3.2     3.5    -4.7    NaN     11.0\n",
       "DK      6.6     8.6     5.9    NaN      9.9"
      ]
     },
     "execution_count": 23,
     "metadata": {},
     "output_type": "execute_result"
    }
   ],
   "source": [
    "gapdata.sort_values(\"GapONEU\", ascending = False).head(5)"
   ]
  },
  {
   "cell_type": "markdown",
   "id": "c1439d75",
   "metadata": {},
   "source": [
    "# 4. Vacancy rate statistics"
   ]
  },
  {
   "cell_type": "code",
   "execution_count": 24,
   "id": "44499f53",
   "metadata": {},
   "outputs": [],
   "source": [
    "# From the EMN report, identify countries that flagged the qualifications recognition issue\n",
    "lack_reco = [\"AT\", \"CZ\", \"DE\", \"ES\", \"FI\", \"IE\", \"IT\", \"LU\", \"LV\", \"PT\", \"SE\", \"SI\"] # List from EMN report, p. 15\n",
    "noreco = pd.DataFrame(columns = ['Country', \"LacksRecognition\"])\n",
    "noreco.Country = lack_reco\n",
    "noreco.LacksRecognition = \"Yes\""
   ]
  },
  {
   "cell_type": "code",
   "execution_count": 25,
   "id": "b571bea0",
   "metadata": {},
   "outputs": [
    {
     "data": {
      "text/html": [
       "<div>\n",
       "<style scoped>\n",
       "    .dataframe tbody tr th:only-of-type {\n",
       "        vertical-align: middle;\n",
       "    }\n",
       "\n",
       "    .dataframe tbody tr th {\n",
       "        vertical-align: top;\n",
       "    }\n",
       "\n",
       "    .dataframe thead th {\n",
       "        text-align: right;\n",
       "    }\n",
       "</style>\n",
       "<table border=\"1\" class=\"dataframe\">\n",
       "  <thead>\n",
       "    <tr style=\"text-align: right;\">\n",
       "      <th></th>\n",
       "      <th>nace_r2</th>\n",
       "      <th>geo</th>\n",
       "      <th>OBS_VALUE</th>\n",
       "      <th>Country</th>\n",
       "      <th>LacksRecognition</th>\n",
       "    </tr>\n",
       "  </thead>\n",
       "  <tbody>\n",
       "    <tr>\n",
       "      <th>55</th>\n",
       "      <td>ProfSciTech</td>\n",
       "      <td>BE</td>\n",
       "      <td>8.3</td>\n",
       "      <td>NaN</td>\n",
       "      <td>NaN</td>\n",
       "    </tr>\n",
       "    <tr>\n",
       "      <th>83</th>\n",
       "      <td>Education</td>\n",
       "      <td>BG</td>\n",
       "      <td>0.4</td>\n",
       "      <td>NaN</td>\n",
       "      <td>NaN</td>\n",
       "    </tr>\n",
       "    <tr>\n",
       "      <th>23</th>\n",
       "      <td>InfoCom</td>\n",
       "      <td>RO</td>\n",
       "      <td>1.3</td>\n",
       "      <td>NaN</td>\n",
       "      <td>NaN</td>\n",
       "    </tr>\n",
       "    <tr>\n",
       "      <th>102</th>\n",
       "      <td>Education</td>\n",
       "      <td>RO</td>\n",
       "      <td>0.4</td>\n",
       "      <td>NaN</td>\n",
       "      <td>NaN</td>\n",
       "    </tr>\n",
       "    <tr>\n",
       "      <th>17</th>\n",
       "      <td>InfoCom</td>\n",
       "      <td>LU</td>\n",
       "      <td>3.8</td>\n",
       "      <td>LU</td>\n",
       "      <td>Yes</td>\n",
       "    </tr>\n",
       "  </tbody>\n",
       "</table>\n",
       "</div>"
      ],
      "text/plain": [
       "         nace_r2 geo  OBS_VALUE Country LacksRecognition\n",
       "55   ProfSciTech  BE        8.3     NaN              NaN\n",
       "83     Education  BG        0.4     NaN              NaN\n",
       "23       InfoCom  RO        1.3     NaN              NaN\n",
       "102    Education  RO        0.4     NaN              NaN\n",
       "17       InfoCom  LU        3.8      LU              Yes"
      ]
     },
     "execution_count": 25,
     "metadata": {},
     "output_type": "execute_result"
    }
   ],
   "source": [
    "# Incorporate the recognition issue data into the vacancy dataframe\n",
    "data = pd.merge(left=dfv, right=noreco,\n",
    "         left_on=\"geo\", right_on=\"Country\", how=\"left\")\n",
    "data.sample(5)"
   ]
  },
  {
   "cell_type": "code",
   "execution_count": 26,
   "id": "6dd3644d",
   "metadata": {},
   "outputs": [],
   "source": [
    "data['LacksRecognition'].fillna('No', inplace=True)"
   ]
  },
  {
   "cell_type": "code",
   "execution_count": 27,
   "id": "9d011028",
   "metadata": {},
   "outputs": [],
   "source": [
    "data = data.drop(\"Country\", axis=1) # time to get rid of the incomplete column from noreco"
   ]
  },
  {
   "cell_type": "code",
   "execution_count": 28,
   "id": "8a38fddd",
   "metadata": {},
   "outputs": [
    {
     "data": {
      "text/html": [
       "<div>\n",
       "<style scoped>\n",
       "    .dataframe tbody tr th:only-of-type {\n",
       "        vertical-align: middle;\n",
       "    }\n",
       "\n",
       "    .dataframe tbody tr th {\n",
       "        vertical-align: top;\n",
       "    }\n",
       "\n",
       "    .dataframe thead th {\n",
       "        text-align: right;\n",
       "    }\n",
       "</style>\n",
       "<table border=\"1\" class=\"dataframe\">\n",
       "  <thead>\n",
       "    <tr style=\"text-align: right;\">\n",
       "      <th></th>\n",
       "      <th>nace_r2</th>\n",
       "      <th>geo</th>\n",
       "      <th>OBS_VALUE</th>\n",
       "      <th>LacksRecognition</th>\n",
       "    </tr>\n",
       "  </thead>\n",
       "  <tbody>\n",
       "    <tr>\n",
       "      <th>1</th>\n",
       "      <td>InfoCom</td>\n",
       "      <td>BE</td>\n",
       "      <td>8.5</td>\n",
       "      <td>No</td>\n",
       "    </tr>\n",
       "    <tr>\n",
       "      <th>55</th>\n",
       "      <td>ProfSciTech</td>\n",
       "      <td>BE</td>\n",
       "      <td>8.3</td>\n",
       "      <td>No</td>\n",
       "    </tr>\n",
       "    <tr>\n",
       "      <th>71</th>\n",
       "      <td>ProfSciTech</td>\n",
       "      <td>LU</td>\n",
       "      <td>7.6</td>\n",
       "      <td>Yes</td>\n",
       "    </tr>\n",
       "    <tr>\n",
       "      <th>20</th>\n",
       "      <td>InfoCom</td>\n",
       "      <td>NL</td>\n",
       "      <td>7.6</td>\n",
       "      <td>No</td>\n",
       "    </tr>\n",
       "    <tr>\n",
       "      <th>0</th>\n",
       "      <td>InfoCom</td>\n",
       "      <td>AT</td>\n",
       "      <td>6.6</td>\n",
       "      <td>Yes</td>\n",
       "    </tr>\n",
       "    <tr>\n",
       "      <th>54</th>\n",
       "      <td>ProfSciTech</td>\n",
       "      <td>AT</td>\n",
       "      <td>6.4</td>\n",
       "      <td>Yes</td>\n",
       "    </tr>\n",
       "    <tr>\n",
       "      <th>74</th>\n",
       "      <td>ProfSciTech</td>\n",
       "      <td>NL</td>\n",
       "      <td>6.3</td>\n",
       "      <td>No</td>\n",
       "    </tr>\n",
       "    <tr>\n",
       "      <th>5</th>\n",
       "      <td>InfoCom</td>\n",
       "      <td>DE</td>\n",
       "      <td>5.7</td>\n",
       "      <td>Yes</td>\n",
       "    </tr>\n",
       "    <tr>\n",
       "      <th>58</th>\n",
       "      <td>ProfSciTech</td>\n",
       "      <td>CZ</td>\n",
       "      <td>5.7</td>\n",
       "      <td>Yes</td>\n",
       "    </tr>\n",
       "    <tr>\n",
       "      <th>19</th>\n",
       "      <td>InfoCom</td>\n",
       "      <td>MT</td>\n",
       "      <td>5.5</td>\n",
       "      <td>No</td>\n",
       "    </tr>\n",
       "  </tbody>\n",
       "</table>\n",
       "</div>"
      ],
      "text/plain": [
       "        nace_r2 geo  OBS_VALUE LacksRecognition\n",
       "1       InfoCom  BE        8.5               No\n",
       "55  ProfSciTech  BE        8.3               No\n",
       "71  ProfSciTech  LU        7.6              Yes\n",
       "20      InfoCom  NL        7.6               No\n",
       "0       InfoCom  AT        6.6              Yes\n",
       "54  ProfSciTech  AT        6.4              Yes\n",
       "74  ProfSciTech  NL        6.3               No\n",
       "5       InfoCom  DE        5.7              Yes\n",
       "58  ProfSciTech  CZ        5.7              Yes\n",
       "19      InfoCom  MT        5.5               No"
      ]
     },
     "execution_count": 28,
     "metadata": {},
     "output_type": "execute_result"
    }
   ],
   "source": [
    "# Which countries and occupational categories have the highest vacancy rate?\n",
    "data.sort_values(\"OBS_VALUE\", ascending=False).head(10)"
   ]
  },
  {
   "cell_type": "code",
   "execution_count": 29,
   "id": "7ee591aa",
   "metadata": {},
   "outputs": [
    {
     "data": {
      "text/html": [
       "<div>\n",
       "<style scoped>\n",
       "    .dataframe tbody tr th:only-of-type {\n",
       "        vertical-align: middle;\n",
       "    }\n",
       "\n",
       "    .dataframe tbody tr th {\n",
       "        vertical-align: top;\n",
       "    }\n",
       "\n",
       "    .dataframe thead th {\n",
       "        text-align: right;\n",
       "    }\n",
       "</style>\n",
       "<table border=\"1\" class=\"dataframe\">\n",
       "  <thead>\n",
       "    <tr style=\"text-align: right;\">\n",
       "      <th></th>\n",
       "      <th>nace_r2</th>\n",
       "      <th>geo</th>\n",
       "      <th>OBS_VALUE</th>\n",
       "      <th>LacksRecognition</th>\n",
       "    </tr>\n",
       "  </thead>\n",
       "  <tbody>\n",
       "    <tr>\n",
       "      <th>111</th>\n",
       "      <td>HealthSocWork</td>\n",
       "      <td>DE</td>\n",
       "      <td>4.3</td>\n",
       "      <td>Yes</td>\n",
       "    </tr>\n",
       "    <tr>\n",
       "      <th>124</th>\n",
       "      <td>HealthSocWork</td>\n",
       "      <td>NL</td>\n",
       "      <td>4.2</td>\n",
       "      <td>No</td>\n",
       "    </tr>\n",
       "    <tr>\n",
       "      <th>106</th>\n",
       "      <td>HealthSocWork</td>\n",
       "      <td>AT</td>\n",
       "      <td>4.0</td>\n",
       "      <td>Yes</td>\n",
       "    </tr>\n",
       "    <tr>\n",
       "      <th>117</th>\n",
       "      <td>HealthSocWork</td>\n",
       "      <td>HU</td>\n",
       "      <td>4.0</td>\n",
       "      <td>No</td>\n",
       "    </tr>\n",
       "    <tr>\n",
       "      <th>107</th>\n",
       "      <td>HealthSocWork</td>\n",
       "      <td>BE</td>\n",
       "      <td>3.0</td>\n",
       "      <td>No</td>\n",
       "    </tr>\n",
       "    <tr>\n",
       "      <th>115</th>\n",
       "      <td>HealthSocWork</td>\n",
       "      <td>FI</td>\n",
       "      <td>2.9</td>\n",
       "      <td>Yes</td>\n",
       "    </tr>\n",
       "    <tr>\n",
       "      <th>128</th>\n",
       "      <td>HealthSocWork</td>\n",
       "      <td>SE</td>\n",
       "      <td>2.8</td>\n",
       "      <td>Yes</td>\n",
       "    </tr>\n",
       "    <tr>\n",
       "      <th>122</th>\n",
       "      <td>HealthSocWork</td>\n",
       "      <td>LV</td>\n",
       "      <td>2.7</td>\n",
       "      <td>Yes</td>\n",
       "    </tr>\n",
       "    <tr>\n",
       "      <th>116</th>\n",
       "      <td>HealthSocWork</td>\n",
       "      <td>HR</td>\n",
       "      <td>2.5</td>\n",
       "      <td>No</td>\n",
       "    </tr>\n",
       "    <tr>\n",
       "      <th>109</th>\n",
       "      <td>HealthSocWork</td>\n",
       "      <td>CY</td>\n",
       "      <td>2.2</td>\n",
       "      <td>No</td>\n",
       "    </tr>\n",
       "  </tbody>\n",
       "</table>\n",
       "</div>"
      ],
      "text/plain": [
       "           nace_r2 geo  OBS_VALUE LacksRecognition\n",
       "111  HealthSocWork  DE        4.3              Yes\n",
       "124  HealthSocWork  NL        4.2               No\n",
       "106  HealthSocWork  AT        4.0              Yes\n",
       "117  HealthSocWork  HU        4.0               No\n",
       "107  HealthSocWork  BE        3.0               No\n",
       "115  HealthSocWork  FI        2.9              Yes\n",
       "128  HealthSocWork  SE        2.8              Yes\n",
       "122  HealthSocWork  LV        2.7              Yes\n",
       "116  HealthSocWork  HR        2.5               No\n",
       "109  HealthSocWork  CY        2.2               No"
      ]
     },
     "execution_count": 29,
     "metadata": {},
     "output_type": "execute_result"
    }
   ],
   "source": [
    "# Let's specifically analyse Human health and social work\n",
    "data[data.nace_r2 == \"HealthSocWork\"].sort_values(\"OBS_VALUE\", ascending=False).head(10)"
   ]
  },
  {
   "cell_type": "code",
   "execution_count": 30,
   "id": "867b760b",
   "metadata": {},
   "outputs": [],
   "source": [
    "# Create a pivot table that turns occupations into columns\n",
    "vac = data.pivot_table('OBS_VALUE', ['geo', 'LacksRecognition'], 'nace_r2')"
   ]
  },
  {
   "cell_type": "code",
   "execution_count": 31,
   "id": "0505ef5c",
   "metadata": {},
   "outputs": [],
   "source": [
    "# Calculate averages for highly regulated and other highly skilled occupations\n",
    "vac['MeanRg'] = vac[['Education', 'HealthSocWork']].mean(axis=1)\n",
    "vac ['MeanOther'] = vac[['Finance', 'InfoCom', \"ProfSciTech\"]].mean(axis=1)"
   ]
  },
  {
   "cell_type": "code",
   "execution_count": 32,
   "id": "45993751",
   "metadata": {},
   "outputs": [
    {
     "data": {
      "text/html": [
       "<div>\n",
       "<style scoped>\n",
       "    .dataframe tbody tr th:only-of-type {\n",
       "        vertical-align: middle;\n",
       "    }\n",
       "\n",
       "    .dataframe tbody tr th {\n",
       "        vertical-align: top;\n",
       "    }\n",
       "\n",
       "    .dataframe thead th {\n",
       "        text-align: right;\n",
       "    }\n",
       "</style>\n",
       "<table border=\"1\" class=\"dataframe\">\n",
       "  <thead>\n",
       "    <tr style=\"text-align: right;\">\n",
       "      <th></th>\n",
       "      <th>nace_r2</th>\n",
       "      <th>Education</th>\n",
       "      <th>Finance</th>\n",
       "      <th>HealthSocWork</th>\n",
       "      <th>InfoCom</th>\n",
       "      <th>ProfSciTech</th>\n",
       "      <th>MeanRg</th>\n",
       "      <th>MeanOther</th>\n",
       "    </tr>\n",
       "    <tr>\n",
       "      <th>geo</th>\n",
       "      <th>LacksRecognition</th>\n",
       "      <th></th>\n",
       "      <th></th>\n",
       "      <th></th>\n",
       "      <th></th>\n",
       "      <th></th>\n",
       "      <th></th>\n",
       "      <th></th>\n",
       "    </tr>\n",
       "  </thead>\n",
       "  <tbody>\n",
       "    <tr>\n",
       "      <th>DE</th>\n",
       "      <th>Yes</th>\n",
       "      <td>3.5</td>\n",
       "      <td>2.4</td>\n",
       "      <td>4.3</td>\n",
       "      <td>5.7</td>\n",
       "      <td>5.2</td>\n",
       "      <td>3.90</td>\n",
       "      <td>4.433333</td>\n",
       "    </tr>\n",
       "    <tr>\n",
       "      <th>HU</th>\n",
       "      <th>No</th>\n",
       "      <td>2.4</td>\n",
       "      <td>2.8</td>\n",
       "      <td>4.0</td>\n",
       "      <td>3.4</td>\n",
       "      <td>2.7</td>\n",
       "      <td>3.20</td>\n",
       "      <td>2.966667</td>\n",
       "    </tr>\n",
       "    <tr>\n",
       "      <th>NL</th>\n",
       "      <th>No</th>\n",
       "      <td>2.1</td>\n",
       "      <td>5.2</td>\n",
       "      <td>4.2</td>\n",
       "      <td>7.6</td>\n",
       "      <td>6.3</td>\n",
       "      <td>3.15</td>\n",
       "      <td>6.366667</td>\n",
       "    </tr>\n",
       "    <tr>\n",
       "      <th>AT</th>\n",
       "      <th>Yes</th>\n",
       "      <td>2.0</td>\n",
       "      <td>3.0</td>\n",
       "      <td>4.0</td>\n",
       "      <td>6.6</td>\n",
       "      <td>6.4</td>\n",
       "      <td>3.00</td>\n",
       "      <td>5.333333</td>\n",
       "    </tr>\n",
       "    <tr>\n",
       "      <th>BE</th>\n",
       "      <th>No</th>\n",
       "      <td>2.9</td>\n",
       "      <td>3.7</td>\n",
       "      <td>3.0</td>\n",
       "      <td>8.5</td>\n",
       "      <td>8.3</td>\n",
       "      <td>2.95</td>\n",
       "      <td>6.833333</td>\n",
       "    </tr>\n",
       "  </tbody>\n",
       "</table>\n",
       "</div>"
      ],
      "text/plain": [
       "nace_r2               Education  Finance  HealthSocWork  InfoCom  ProfSciTech  \\\n",
       "geo LacksRecognition                                                            \n",
       "DE  Yes                     3.5      2.4            4.3      5.7          5.2   \n",
       "HU  No                      2.4      2.8            4.0      3.4          2.7   \n",
       "NL  No                      2.1      5.2            4.2      7.6          6.3   \n",
       "AT  Yes                     2.0      3.0            4.0      6.6          6.4   \n",
       "BE  No                      2.9      3.7            3.0      8.5          8.3   \n",
       "\n",
       "nace_r2               MeanRg  MeanOther  \n",
       "geo LacksRecognition                     \n",
       "DE  Yes                 3.90   4.433333  \n",
       "HU  No                  3.20   2.966667  \n",
       "NL  No                  3.15   6.366667  \n",
       "AT  Yes                 3.00   5.333333  \n",
       "BE  No                  2.95   6.833333  "
      ]
     },
     "execution_count": 32,
     "metadata": {},
     "output_type": "execute_result"
    }
   ],
   "source": [
    "vac.sort_values(\"MeanRg\", ascending=False).head(5)"
   ]
  },
  {
   "cell_type": "markdown",
   "id": "046b57cf",
   "metadata": {},
   "source": [
    "# 5. Visualise with simple graphs\n",
    "\n",
    "This is for the general idea -- much better visualisations can be made with other tools"
   ]
  },
  {
   "cell_type": "code",
   "execution_count": 33,
   "id": "0b2e07cd",
   "metadata": {},
   "outputs": [
    {
     "data": {
      "text/plain": [
       "Index(['Education', 'Finance', 'HealthSocWork', 'InfoCom', 'ProfSciTech',\n",
       "       'MeanRg', 'MeanOther'],\n",
       "      dtype='object', name='nace_r2')"
      ]
     },
     "execution_count": 33,
     "metadata": {},
     "output_type": "execute_result"
    }
   ],
   "source": [
    "vac.columns"
   ]
  },
  {
   "cell_type": "markdown",
   "id": "a7c5a49f",
   "metadata": {},
   "source": [
    "## Vacancy rate"
   ]
  },
  {
   "cell_type": "code",
   "execution_count": 34,
   "id": "04c80f22",
   "metadata": {},
   "outputs": [
    {
     "data": {
      "text/html": [
       "\n",
       "<div id=\"altair-viz-51caa43d552d464193a8308e54306f75\"></div>\n",
       "<script type=\"text/javascript\">\n",
       "  (function(spec, embedOpt){\n",
       "    let outputDiv = document.currentScript.previousElementSibling;\n",
       "    if (outputDiv.id !== \"altair-viz-51caa43d552d464193a8308e54306f75\") {\n",
       "      outputDiv = document.getElementById(\"altair-viz-51caa43d552d464193a8308e54306f75\");\n",
       "    }\n",
       "    const paths = {\n",
       "      \"vega\": \"https://cdn.jsdelivr.net/npm//vega@5?noext\",\n",
       "      \"vega-lib\": \"https://cdn.jsdelivr.net/npm//vega-lib?noext\",\n",
       "      \"vega-lite\": \"https://cdn.jsdelivr.net/npm//vega-lite@4.8.1?noext\",\n",
       "      \"vega-embed\": \"https://cdn.jsdelivr.net/npm//vega-embed@6?noext\",\n",
       "    };\n",
       "\n",
       "    function loadScript(lib) {\n",
       "      return new Promise(function(resolve, reject) {\n",
       "        var s = document.createElement('script');\n",
       "        s.src = paths[lib];\n",
       "        s.async = true;\n",
       "        s.onload = () => resolve(paths[lib]);\n",
       "        s.onerror = () => reject(`Error loading script: ${paths[lib]}`);\n",
       "        document.getElementsByTagName(\"head\")[0].appendChild(s);\n",
       "      });\n",
       "    }\n",
       "\n",
       "    function showError(err) {\n",
       "      outputDiv.innerHTML = `<div class=\"error\" style=\"color:red;\">${err}</div>`;\n",
       "      throw err;\n",
       "    }\n",
       "\n",
       "    function displayChart(vegaEmbed) {\n",
       "      vegaEmbed(outputDiv, spec, embedOpt)\n",
       "        .catch(err => showError(`Javascript Error: ${err.message}<br>This usually means there's a typo in your chart specification. See the javascript console for the full traceback.`));\n",
       "    }\n",
       "\n",
       "    if(typeof define === \"function\" && define.amd) {\n",
       "      requirejs.config({paths});\n",
       "      require([\"vega-embed\"], displayChart, err => showError(`Error loading script: ${err.message}`));\n",
       "    } else if (typeof vegaEmbed === \"function\") {\n",
       "      displayChart(vegaEmbed);\n",
       "    } else {\n",
       "      loadScript(\"vega\")\n",
       "        .then(() => loadScript(\"vega-lite\"))\n",
       "        .then(() => loadScript(\"vega-embed\"))\n",
       "        .catch(showError)\n",
       "        .then(() => displayChart(vegaEmbed));\n",
       "    }\n",
       "  })({\"config\": {\"view\": {\"continuousWidth\": 400, \"continuousHeight\": 300}}, \"data\": {\"name\": \"data-21d323f3afaba1b95b5a0bc44830f29c\"}, \"mark\": \"bar\", \"encoding\": {\"color\": {\"condition\": {\"value\": \"red\", \"test\": \"(datum.geo === 'EU27_2020')\"}, \"value\": \"navy\"}, \"x\": {\"type\": \"nominal\", \"field\": \"geo\", \"sort\": \"y\"}, \"y\": {\"type\": \"quantitative\", \"field\": \"MeanRg\"}}, \"title\": {\"text\": \"Vacancy rate -- highly regulated occupations\", \"anchor\": \"middle\"}, \"$schema\": \"https://vega.github.io/schema/vega-lite/v4.8.1.json\", \"datasets\": {\"data-21d323f3afaba1b95b5a0bc44830f29c\": [{\"geo\": \"AT\", \"LacksRecognition\": \"Yes\", \"Education\": 2.0, \"Finance\": 3.0, \"HealthSocWork\": 4.0, \"InfoCom\": 6.6, \"ProfSciTech\": 6.4, \"MeanRg\": 3.0, \"MeanOther\": 5.333333333333333}, {\"geo\": \"BE\", \"LacksRecognition\": \"No\", \"Education\": 2.9, \"Finance\": 3.7, \"HealthSocWork\": 3.0, \"InfoCom\": 8.5, \"ProfSciTech\": 8.3, \"MeanRg\": 2.95, \"MeanOther\": 6.833333333333333}, {\"geo\": \"BG\", \"LacksRecognition\": \"No\", \"Education\": 0.4, \"Finance\": 0.6, \"HealthSocWork\": 1.6, \"InfoCom\": 0.7, \"ProfSciTech\": 0.7, \"MeanRg\": 1.0, \"MeanOther\": 0.6666666666666666}, {\"geo\": \"CY\", \"LacksRecognition\": \"No\", \"Education\": 1.8, \"Finance\": 2.3, \"HealthSocWork\": 2.2, \"InfoCom\": 2.4, \"ProfSciTech\": 2.4, \"MeanRg\": 2.0, \"MeanOther\": 2.3666666666666667}, {\"geo\": \"CZ\", \"LacksRecognition\": \"Yes\", \"Education\": 0.7, \"Finance\": 0.6, \"HealthSocWork\": 1.7, \"InfoCom\": 4.4, \"ProfSciTech\": 5.7, \"MeanRg\": 1.2, \"MeanOther\": 3.5666666666666664}, {\"geo\": \"DE\", \"LacksRecognition\": \"Yes\", \"Education\": 3.5, \"Finance\": 2.4, \"HealthSocWork\": 4.3, \"InfoCom\": 5.7, \"ProfSciTech\": 5.2, \"MeanRg\": 3.9, \"MeanOther\": 4.433333333333334}, {\"geo\": \"DK\", \"LacksRecognition\": \"No\", \"Education\": null, \"Finance\": 2.9, \"HealthSocWork\": null, \"InfoCom\": 4.4, \"ProfSciTech\": 4.1, \"MeanRg\": null, \"MeanOther\": 3.8000000000000003}, {\"geo\": \"EE\", \"LacksRecognition\": \"No\", \"Education\": 2.7, \"Finance\": 3.4, \"HealthSocWork\": 2.1, \"InfoCom\": 2.9, \"ProfSciTech\": 1.6, \"MeanRg\": 2.4000000000000004, \"MeanOther\": 2.6333333333333333}, {\"geo\": \"EL\", \"LacksRecognition\": \"No\", \"Education\": 0.2, \"Finance\": 0.4, \"HealthSocWork\": 0.6, \"InfoCom\": 1.0, \"ProfSciTech\": 1.4, \"MeanRg\": 0.4, \"MeanOther\": 0.9333333333333332}, {\"geo\": \"ES\", \"LacksRecognition\": \"Yes\", \"Education\": 0.3, \"Finance\": 0.5, \"HealthSocWork\": 0.9, \"InfoCom\": 1.5, \"ProfSciTech\": 1.2, \"MeanRg\": 0.6, \"MeanOther\": 1.0666666666666667}, {\"geo\": \"EU27_2020\", \"LacksRecognition\": \"No\", \"Education\": null, \"Finance\": 2.0, \"HealthSocWork\": null, \"InfoCom\": 4.1, \"ProfSciTech\": 3.9, \"MeanRg\": null, \"MeanOther\": 3.3333333333333335}, {\"geo\": \"FI\", \"LacksRecognition\": \"Yes\", \"Education\": 1.3, \"Finance\": 1.5, \"HealthSocWork\": 2.9, \"InfoCom\": 4.8, \"ProfSciTech\": 2.5, \"MeanRg\": 2.1, \"MeanOther\": 2.9333333333333336}, {\"geo\": \"HR\", \"LacksRecognition\": \"No\", \"Education\": 2.2, \"Finance\": 0.3, \"HealthSocWork\": 2.5, \"InfoCom\": 0.5, \"ProfSciTech\": 1.0, \"MeanRg\": 2.35, \"MeanOther\": 0.6}, {\"geo\": \"HU\", \"LacksRecognition\": \"No\", \"Education\": 2.4, \"Finance\": 2.8, \"HealthSocWork\": 4.0, \"InfoCom\": 3.4, \"ProfSciTech\": 2.7, \"MeanRg\": 3.2, \"MeanOther\": 2.9666666666666663}, {\"geo\": \"IE\", \"LacksRecognition\": \"Yes\", \"Education\": 1.5, \"Finance\": 3.5, \"HealthSocWork\": 0.9, \"InfoCom\": 1.9, \"ProfSciTech\": 3.8, \"MeanRg\": 1.2, \"MeanOther\": 3.0666666666666664}, {\"geo\": \"IT\", \"LacksRecognition\": \"Yes\", \"Education\": 1.6, \"Finance\": 1.1, \"HealthSocWork\": 1.6, \"InfoCom\": 2.9, \"ProfSciTech\": 2.9, \"MeanRg\": 1.6, \"MeanOther\": 2.3000000000000003}, {\"geo\": \"LT\", \"LacksRecognition\": \"No\", \"Education\": 0.4, \"Finance\": 3.0, \"HealthSocWork\": 1.7, \"InfoCom\": 3.2, \"ProfSciTech\": 1.3, \"MeanRg\": 1.05, \"MeanOther\": 2.5}, {\"geo\": \"LU\", \"LacksRecognition\": \"Yes\", \"Education\": 1.7, \"Finance\": 2.2, \"HealthSocWork\": 1.3, \"InfoCom\": 3.8, \"ProfSciTech\": 7.6, \"MeanRg\": 1.5, \"MeanOther\": 4.533333333333333}, {\"geo\": \"LV\", \"LacksRecognition\": \"Yes\", \"Education\": 1.6, \"Finance\": 2.3, \"HealthSocWork\": 2.7, \"InfoCom\": 3.3, \"ProfSciTech\": 1.1, \"MeanRg\": 2.1500000000000004, \"MeanOther\": 2.233333333333333}, {\"geo\": \"MT\", \"LacksRecognition\": \"No\", \"Education\": 1.1, \"Finance\": 3.4, \"HealthSocWork\": 0.9, \"InfoCom\": 5.5, \"ProfSciTech\": 3.3, \"MeanRg\": 1.0, \"MeanOther\": 4.066666666666666}, {\"geo\": \"NL\", \"LacksRecognition\": \"No\", \"Education\": 2.1, \"Finance\": 5.2, \"HealthSocWork\": 4.2, \"InfoCom\": 7.6, \"ProfSciTech\": 6.3, \"MeanRg\": 3.1500000000000004, \"MeanOther\": 6.366666666666667}, {\"geo\": \"PL\", \"LacksRecognition\": \"No\", \"Education\": 0.4, \"Finance\": 0.7, \"HealthSocWork\": 0.8, \"InfoCom\": 3.5, \"ProfSciTech\": 1.7, \"MeanRg\": 0.6000000000000001, \"MeanOther\": 1.9666666666666668}, {\"geo\": \"PT\", \"LacksRecognition\": \"Yes\", \"Education\": 0.2, \"Finance\": 0.8, \"HealthSocWork\": 0.4, \"InfoCom\": 3.6, \"ProfSciTech\": 2.5, \"MeanRg\": 0.30000000000000004, \"MeanOther\": 2.3000000000000003}, {\"geo\": \"RO\", \"LacksRecognition\": \"No\", \"Education\": 0.4, \"Finance\": 1.2, \"HealthSocWork\": 1.1, \"InfoCom\": 1.3, \"ProfSciTech\": 1.1, \"MeanRg\": 0.75, \"MeanOther\": 1.2}, {\"geo\": \"SE\", \"LacksRecognition\": \"Yes\", \"Education\": 2.7, \"Finance\": 3.1, \"HealthSocWork\": 2.8, \"InfoCom\": 5.2, \"ProfSciTech\": 4.5, \"MeanRg\": 2.75, \"MeanOther\": 4.266666666666667}, {\"geo\": \"SI\", \"LacksRecognition\": \"Yes\", \"Education\": 1.1, \"Finance\": 1.5, \"HealthSocWork\": 1.5, \"InfoCom\": 3.4, \"ProfSciTech\": 3.6, \"MeanRg\": 1.3, \"MeanOther\": 2.8333333333333335}, {\"geo\": \"SK\", \"LacksRecognition\": \"No\", \"Education\": 0.2, \"Finance\": 2.3, \"HealthSocWork\": 0.7, \"InfoCom\": 0.7, \"ProfSciTech\": 0.6, \"MeanRg\": 0.44999999999999996, \"MeanOther\": 1.2}]}}, {\"mode\": \"vega-lite\"});\n",
       "</script>"
      ],
      "text/plain": [
       "alt.Chart(...)"
      ]
     },
     "execution_count": 34,
     "metadata": {},
     "output_type": "execute_result"
    }
   ],
   "source": [
    "chart_data = vac.reset_index()\n",
    "title = alt.TitleParams('Vacancy rate -- highly regulated occupations', anchor='middle')\n",
    "\n",
    "plot = (\n",
    "    alt.Chart(chart_data, title=title)\n",
    "    .mark_bar()\n",
    "    .encode(\n",
    "        x=alt.X(\"geo\", sort=\"y\"),\n",
    "        y=\"MeanRg\"))\n",
    "\n",
    "plot.encode(color=alt.condition(alt.datum.geo == \"EU27_2020\", alt.value(\"red\"), alt.value(\"navy\")))"
   ]
  },
  {
   "cell_type": "code",
   "execution_count": 35,
   "id": "78fbbdc5",
   "metadata": {},
   "outputs": [
    {
     "data": {
      "text/html": [
       "\n",
       "<div id=\"altair-viz-933092834fb34ac1a0ec20067c495cdc\"></div>\n",
       "<script type=\"text/javascript\">\n",
       "  (function(spec, embedOpt){\n",
       "    let outputDiv = document.currentScript.previousElementSibling;\n",
       "    if (outputDiv.id !== \"altair-viz-933092834fb34ac1a0ec20067c495cdc\") {\n",
       "      outputDiv = document.getElementById(\"altair-viz-933092834fb34ac1a0ec20067c495cdc\");\n",
       "    }\n",
       "    const paths = {\n",
       "      \"vega\": \"https://cdn.jsdelivr.net/npm//vega@5?noext\",\n",
       "      \"vega-lib\": \"https://cdn.jsdelivr.net/npm//vega-lib?noext\",\n",
       "      \"vega-lite\": \"https://cdn.jsdelivr.net/npm//vega-lite@4.8.1?noext\",\n",
       "      \"vega-embed\": \"https://cdn.jsdelivr.net/npm//vega-embed@6?noext\",\n",
       "    };\n",
       "\n",
       "    function loadScript(lib) {\n",
       "      return new Promise(function(resolve, reject) {\n",
       "        var s = document.createElement('script');\n",
       "        s.src = paths[lib];\n",
       "        s.async = true;\n",
       "        s.onload = () => resolve(paths[lib]);\n",
       "        s.onerror = () => reject(`Error loading script: ${paths[lib]}`);\n",
       "        document.getElementsByTagName(\"head\")[0].appendChild(s);\n",
       "      });\n",
       "    }\n",
       "\n",
       "    function showError(err) {\n",
       "      outputDiv.innerHTML = `<div class=\"error\" style=\"color:red;\">${err}</div>`;\n",
       "      throw err;\n",
       "    }\n",
       "\n",
       "    function displayChart(vegaEmbed) {\n",
       "      vegaEmbed(outputDiv, spec, embedOpt)\n",
       "        .catch(err => showError(`Javascript Error: ${err.message}<br>This usually means there's a typo in your chart specification. See the javascript console for the full traceback.`));\n",
       "    }\n",
       "\n",
       "    if(typeof define === \"function\" && define.amd) {\n",
       "      requirejs.config({paths});\n",
       "      require([\"vega-embed\"], displayChart, err => showError(`Error loading script: ${err.message}`));\n",
       "    } else if (typeof vegaEmbed === \"function\") {\n",
       "      displayChart(vegaEmbed);\n",
       "    } else {\n",
       "      loadScript(\"vega\")\n",
       "        .then(() => loadScript(\"vega-lite\"))\n",
       "        .then(() => loadScript(\"vega-embed\"))\n",
       "        .catch(showError)\n",
       "        .then(() => displayChart(vegaEmbed));\n",
       "    }\n",
       "  })({\"config\": {\"view\": {\"continuousWidth\": 400, \"continuousHeight\": 300}}, \"data\": {\"name\": \"data-21d323f3afaba1b95b5a0bc44830f29c\"}, \"mark\": \"bar\", \"encoding\": {\"color\": {\"condition\": {\"value\": \"red\", \"test\": \"(datum.geo === 'EU27_2020')\"}, \"value\": \"navy\"}, \"x\": {\"type\": \"nominal\", \"field\": \"geo\", \"sort\": \"y\"}, \"y\": {\"type\": \"quantitative\", \"field\": \"MeanOther\"}}, \"title\": {\"text\": \"Vacancy rate -- other high-skilled occupations\", \"anchor\": \"middle\"}, \"$schema\": \"https://vega.github.io/schema/vega-lite/v4.8.1.json\", \"datasets\": {\"data-21d323f3afaba1b95b5a0bc44830f29c\": [{\"geo\": \"AT\", \"LacksRecognition\": \"Yes\", \"Education\": 2.0, \"Finance\": 3.0, \"HealthSocWork\": 4.0, \"InfoCom\": 6.6, \"ProfSciTech\": 6.4, \"MeanRg\": 3.0, \"MeanOther\": 5.333333333333333}, {\"geo\": \"BE\", \"LacksRecognition\": \"No\", \"Education\": 2.9, \"Finance\": 3.7, \"HealthSocWork\": 3.0, \"InfoCom\": 8.5, \"ProfSciTech\": 8.3, \"MeanRg\": 2.95, \"MeanOther\": 6.833333333333333}, {\"geo\": \"BG\", \"LacksRecognition\": \"No\", \"Education\": 0.4, \"Finance\": 0.6, \"HealthSocWork\": 1.6, \"InfoCom\": 0.7, \"ProfSciTech\": 0.7, \"MeanRg\": 1.0, \"MeanOther\": 0.6666666666666666}, {\"geo\": \"CY\", \"LacksRecognition\": \"No\", \"Education\": 1.8, \"Finance\": 2.3, \"HealthSocWork\": 2.2, \"InfoCom\": 2.4, \"ProfSciTech\": 2.4, \"MeanRg\": 2.0, \"MeanOther\": 2.3666666666666667}, {\"geo\": \"CZ\", \"LacksRecognition\": \"Yes\", \"Education\": 0.7, \"Finance\": 0.6, \"HealthSocWork\": 1.7, \"InfoCom\": 4.4, \"ProfSciTech\": 5.7, \"MeanRg\": 1.2, \"MeanOther\": 3.5666666666666664}, {\"geo\": \"DE\", \"LacksRecognition\": \"Yes\", \"Education\": 3.5, \"Finance\": 2.4, \"HealthSocWork\": 4.3, \"InfoCom\": 5.7, \"ProfSciTech\": 5.2, \"MeanRg\": 3.9, \"MeanOther\": 4.433333333333334}, {\"geo\": \"DK\", \"LacksRecognition\": \"No\", \"Education\": null, \"Finance\": 2.9, \"HealthSocWork\": null, \"InfoCom\": 4.4, \"ProfSciTech\": 4.1, \"MeanRg\": null, \"MeanOther\": 3.8000000000000003}, {\"geo\": \"EE\", \"LacksRecognition\": \"No\", \"Education\": 2.7, \"Finance\": 3.4, \"HealthSocWork\": 2.1, \"InfoCom\": 2.9, \"ProfSciTech\": 1.6, \"MeanRg\": 2.4000000000000004, \"MeanOther\": 2.6333333333333333}, {\"geo\": \"EL\", \"LacksRecognition\": \"No\", \"Education\": 0.2, \"Finance\": 0.4, \"HealthSocWork\": 0.6, \"InfoCom\": 1.0, \"ProfSciTech\": 1.4, \"MeanRg\": 0.4, \"MeanOther\": 0.9333333333333332}, {\"geo\": \"ES\", \"LacksRecognition\": \"Yes\", \"Education\": 0.3, \"Finance\": 0.5, \"HealthSocWork\": 0.9, \"InfoCom\": 1.5, \"ProfSciTech\": 1.2, \"MeanRg\": 0.6, \"MeanOther\": 1.0666666666666667}, {\"geo\": \"EU27_2020\", \"LacksRecognition\": \"No\", \"Education\": null, \"Finance\": 2.0, \"HealthSocWork\": null, \"InfoCom\": 4.1, \"ProfSciTech\": 3.9, \"MeanRg\": null, \"MeanOther\": 3.3333333333333335}, {\"geo\": \"FI\", \"LacksRecognition\": \"Yes\", \"Education\": 1.3, \"Finance\": 1.5, \"HealthSocWork\": 2.9, \"InfoCom\": 4.8, \"ProfSciTech\": 2.5, \"MeanRg\": 2.1, \"MeanOther\": 2.9333333333333336}, {\"geo\": \"HR\", \"LacksRecognition\": \"No\", \"Education\": 2.2, \"Finance\": 0.3, \"HealthSocWork\": 2.5, \"InfoCom\": 0.5, \"ProfSciTech\": 1.0, \"MeanRg\": 2.35, \"MeanOther\": 0.6}, {\"geo\": \"HU\", \"LacksRecognition\": \"No\", \"Education\": 2.4, \"Finance\": 2.8, \"HealthSocWork\": 4.0, \"InfoCom\": 3.4, \"ProfSciTech\": 2.7, \"MeanRg\": 3.2, \"MeanOther\": 2.9666666666666663}, {\"geo\": \"IE\", \"LacksRecognition\": \"Yes\", \"Education\": 1.5, \"Finance\": 3.5, \"HealthSocWork\": 0.9, \"InfoCom\": 1.9, \"ProfSciTech\": 3.8, \"MeanRg\": 1.2, \"MeanOther\": 3.0666666666666664}, {\"geo\": \"IT\", \"LacksRecognition\": \"Yes\", \"Education\": 1.6, \"Finance\": 1.1, \"HealthSocWork\": 1.6, \"InfoCom\": 2.9, \"ProfSciTech\": 2.9, \"MeanRg\": 1.6, \"MeanOther\": 2.3000000000000003}, {\"geo\": \"LT\", \"LacksRecognition\": \"No\", \"Education\": 0.4, \"Finance\": 3.0, \"HealthSocWork\": 1.7, \"InfoCom\": 3.2, \"ProfSciTech\": 1.3, \"MeanRg\": 1.05, \"MeanOther\": 2.5}, {\"geo\": \"LU\", \"LacksRecognition\": \"Yes\", \"Education\": 1.7, \"Finance\": 2.2, \"HealthSocWork\": 1.3, \"InfoCom\": 3.8, \"ProfSciTech\": 7.6, \"MeanRg\": 1.5, \"MeanOther\": 4.533333333333333}, {\"geo\": \"LV\", \"LacksRecognition\": \"Yes\", \"Education\": 1.6, \"Finance\": 2.3, \"HealthSocWork\": 2.7, \"InfoCom\": 3.3, \"ProfSciTech\": 1.1, \"MeanRg\": 2.1500000000000004, \"MeanOther\": 2.233333333333333}, {\"geo\": \"MT\", \"LacksRecognition\": \"No\", \"Education\": 1.1, \"Finance\": 3.4, \"HealthSocWork\": 0.9, \"InfoCom\": 5.5, \"ProfSciTech\": 3.3, \"MeanRg\": 1.0, \"MeanOther\": 4.066666666666666}, {\"geo\": \"NL\", \"LacksRecognition\": \"No\", \"Education\": 2.1, \"Finance\": 5.2, \"HealthSocWork\": 4.2, \"InfoCom\": 7.6, \"ProfSciTech\": 6.3, \"MeanRg\": 3.1500000000000004, \"MeanOther\": 6.366666666666667}, {\"geo\": \"PL\", \"LacksRecognition\": \"No\", \"Education\": 0.4, \"Finance\": 0.7, \"HealthSocWork\": 0.8, \"InfoCom\": 3.5, \"ProfSciTech\": 1.7, \"MeanRg\": 0.6000000000000001, \"MeanOther\": 1.9666666666666668}, {\"geo\": \"PT\", \"LacksRecognition\": \"Yes\", \"Education\": 0.2, \"Finance\": 0.8, \"HealthSocWork\": 0.4, \"InfoCom\": 3.6, \"ProfSciTech\": 2.5, \"MeanRg\": 0.30000000000000004, \"MeanOther\": 2.3000000000000003}, {\"geo\": \"RO\", \"LacksRecognition\": \"No\", \"Education\": 0.4, \"Finance\": 1.2, \"HealthSocWork\": 1.1, \"InfoCom\": 1.3, \"ProfSciTech\": 1.1, \"MeanRg\": 0.75, \"MeanOther\": 1.2}, {\"geo\": \"SE\", \"LacksRecognition\": \"Yes\", \"Education\": 2.7, \"Finance\": 3.1, \"HealthSocWork\": 2.8, \"InfoCom\": 5.2, \"ProfSciTech\": 4.5, \"MeanRg\": 2.75, \"MeanOther\": 4.266666666666667}, {\"geo\": \"SI\", \"LacksRecognition\": \"Yes\", \"Education\": 1.1, \"Finance\": 1.5, \"HealthSocWork\": 1.5, \"InfoCom\": 3.4, \"ProfSciTech\": 3.6, \"MeanRg\": 1.3, \"MeanOther\": 2.8333333333333335}, {\"geo\": \"SK\", \"LacksRecognition\": \"No\", \"Education\": 0.2, \"Finance\": 2.3, \"HealthSocWork\": 0.7, \"InfoCom\": 0.7, \"ProfSciTech\": 0.6, \"MeanRg\": 0.44999999999999996, \"MeanOther\": 1.2}]}}, {\"mode\": \"vega-lite\"});\n",
       "</script>"
      ],
      "text/plain": [
       "alt.Chart(...)"
      ]
     },
     "execution_count": 35,
     "metadata": {},
     "output_type": "execute_result"
    }
   ],
   "source": [
    "chart_data = vac.reset_index()\n",
    "title = alt.TitleParams('Vacancy rate -- other high-skilled occupations', anchor='middle')\n",
    "\n",
    "plot = (\n",
    "    alt.Chart(chart_data, title=title)\n",
    "    .mark_bar()\n",
    "    .encode(\n",
    "        x=alt.X(\"geo\", sort=\"y\"),\n",
    "        y=\"MeanOther\"))\n",
    "\n",
    "plot.encode(color=alt.condition(alt.datum.geo == \"EU27_2020\", alt.value(\"red\"), alt.value(\"navy\")))"
   ]
  },
  {
   "cell_type": "markdown",
   "id": "fe40e748",
   "metadata": {},
   "source": [
    "## Employment gap by citizenship"
   ]
  },
  {
   "cell_type": "code",
   "execution_count": 36,
   "id": "14c9e13a",
   "metadata": {},
   "outputs": [
    {
     "data": {
      "text/html": [
       "<div>\n",
       "<style scoped>\n",
       "    .dataframe tbody tr th:only-of-type {\n",
       "        vertical-align: middle;\n",
       "    }\n",
       "\n",
       "    .dataframe tbody tr th {\n",
       "        vertical-align: top;\n",
       "    }\n",
       "\n",
       "    .dataframe thead th {\n",
       "        text-align: right;\n",
       "    }\n",
       "</style>\n",
       "<table border=\"1\" class=\"dataframe\">\n",
       "  <thead>\n",
       "    <tr style=\"text-align: right;\">\n",
       "      <th></th>\n",
       "      <th>GapAll</th>\n",
       "      <th>GapNEU</th>\n",
       "      <th>GapMgr</th>\n",
       "      <th>GapOQ</th>\n",
       "      <th>GapONEU</th>\n",
       "    </tr>\n",
       "    <tr>\n",
       "      <th>geo</th>\n",
       "      <th></th>\n",
       "      <th></th>\n",
       "      <th></th>\n",
       "      <th></th>\n",
       "      <th></th>\n",
       "    </tr>\n",
       "  </thead>\n",
       "  <tbody>\n",
       "    <tr>\n",
       "      <th>SE</th>\n",
       "      <td>10.0</td>\n",
       "      <td>15.1</td>\n",
       "      <td>8.1</td>\n",
       "      <td>-5.7</td>\n",
       "      <td>-8.9</td>\n",
       "    </tr>\n",
       "    <tr>\n",
       "      <th>MT</th>\n",
       "      <td>5.7</td>\n",
       "      <td>9.1</td>\n",
       "      <td>5.2</td>\n",
       "      <td>NaN</td>\n",
       "      <td>NaN</td>\n",
       "    </tr>\n",
       "    <tr>\n",
       "      <th>CY</th>\n",
       "      <td>12.4</td>\n",
       "      <td>21.2</td>\n",
       "      <td>11.9</td>\n",
       "      <td>NaN</td>\n",
       "      <td>8.6</td>\n",
       "    </tr>\n",
       "    <tr>\n",
       "      <th>BG</th>\n",
       "      <td>NaN</td>\n",
       "      <td>NaN</td>\n",
       "      <td>18.7</td>\n",
       "      <td>-3.2</td>\n",
       "      <td>2.1</td>\n",
       "    </tr>\n",
       "    <tr>\n",
       "      <th>SI</th>\n",
       "      <td>13.2</td>\n",
       "      <td>17.0</td>\n",
       "      <td>8.0</td>\n",
       "      <td>NaN</td>\n",
       "      <td>NaN</td>\n",
       "    </tr>\n",
       "  </tbody>\n",
       "</table>\n",
       "</div>"
      ],
      "text/plain": [
       "     GapAll  GapNEU  GapMgr  GapOQ  GapONEU\n",
       "geo                                        \n",
       "SE     10.0    15.1     8.1   -5.7     -8.9\n",
       "MT      5.7     9.1     5.2    NaN      NaN\n",
       "CY     12.4    21.2    11.9    NaN      8.6\n",
       "BG      NaN     NaN    18.7   -3.2      2.1\n",
       "SI     13.2    17.0     8.0    NaN      NaN"
      ]
     },
     "execution_count": 36,
     "metadata": {},
     "output_type": "execute_result"
    }
   ],
   "source": [
    "gapdata.sample(5)"
   ]
  },
  {
   "cell_type": "code",
   "execution_count": 37,
   "id": "cf6bd984",
   "metadata": {},
   "outputs": [
    {
     "data": {
      "text/html": [
       "\n",
       "<div id=\"altair-viz-7da75aafed42431b9027b5418a761f21\"></div>\n",
       "<script type=\"text/javascript\">\n",
       "  (function(spec, embedOpt){\n",
       "    let outputDiv = document.currentScript.previousElementSibling;\n",
       "    if (outputDiv.id !== \"altair-viz-7da75aafed42431b9027b5418a761f21\") {\n",
       "      outputDiv = document.getElementById(\"altair-viz-7da75aafed42431b9027b5418a761f21\");\n",
       "    }\n",
       "    const paths = {\n",
       "      \"vega\": \"https://cdn.jsdelivr.net/npm//vega@5?noext\",\n",
       "      \"vega-lib\": \"https://cdn.jsdelivr.net/npm//vega-lib?noext\",\n",
       "      \"vega-lite\": \"https://cdn.jsdelivr.net/npm//vega-lite@4.8.1?noext\",\n",
       "      \"vega-embed\": \"https://cdn.jsdelivr.net/npm//vega-embed@6?noext\",\n",
       "    };\n",
       "\n",
       "    function loadScript(lib) {\n",
       "      return new Promise(function(resolve, reject) {\n",
       "        var s = document.createElement('script');\n",
       "        s.src = paths[lib];\n",
       "        s.async = true;\n",
       "        s.onload = () => resolve(paths[lib]);\n",
       "        s.onerror = () => reject(`Error loading script: ${paths[lib]}`);\n",
       "        document.getElementsByTagName(\"head\")[0].appendChild(s);\n",
       "      });\n",
       "    }\n",
       "\n",
       "    function showError(err) {\n",
       "      outputDiv.innerHTML = `<div class=\"error\" style=\"color:red;\">${err}</div>`;\n",
       "      throw err;\n",
       "    }\n",
       "\n",
       "    function displayChart(vegaEmbed) {\n",
       "      vegaEmbed(outputDiv, spec, embedOpt)\n",
       "        .catch(err => showError(`Javascript Error: ${err.message}<br>This usually means there's a typo in your chart specification. See the javascript console for the full traceback.`));\n",
       "    }\n",
       "\n",
       "    if(typeof define === \"function\" && define.amd) {\n",
       "      requirejs.config({paths});\n",
       "      require([\"vega-embed\"], displayChart, err => showError(`Error loading script: ${err.message}`));\n",
       "    } else if (typeof vegaEmbed === \"function\") {\n",
       "      displayChart(vegaEmbed);\n",
       "    } else {\n",
       "      loadScript(\"vega\")\n",
       "        .then(() => loadScript(\"vega-lite\"))\n",
       "        .then(() => loadScript(\"vega-embed\"))\n",
       "        .catch(showError)\n",
       "        .then(() => displayChart(vegaEmbed));\n",
       "    }\n",
       "  })({\"config\": {\"view\": {\"continuousWidth\": 400, \"continuousHeight\": 300}}, \"data\": {\"name\": \"data-5a5fb536f4aa566d0361ada52caa1e1b\"}, \"mark\": \"bar\", \"encoding\": {\"color\": {\"condition\": {\"value\": \"red\", \"test\": \"(datum.geo === 'EU27_2020')\"}, \"value\": \"navy\"}, \"x\": {\"type\": \"nominal\", \"field\": \"geo\", \"sort\": \"y\"}, \"y\": {\"type\": \"quantitative\", \"field\": \"GapAll\"}}, \"title\": {\"text\": \"Employment gap -- Native vs foreign\", \"anchor\": \"middle\"}, \"$schema\": \"https://vega.github.io/schema/vega-lite/v4.8.1.json\", \"datasets\": {\"data-5a5fb536f4aa566d0361ada52caa1e1b\": [{\"geo\": \"AT\", \"GapAll\": 8.099999999999994, \"GapNEU\": 18.0, \"GapMgr\": 7.800000000000011, \"GapOQ\": 5.700000000000003, \"GapONEU\": 5.400000000000006}, {\"geo\": \"BE\", \"GapAll\": 6.0, \"GapNEU\": 20.099999999999994, \"GapMgr\": 6.799999999999997, \"GapOQ\": -2.6999999999999886, \"GapONEU\": 12.800000000000011}, {\"geo\": \"BG\", \"GapAll\": null, \"GapNEU\": null, \"GapMgr\": 18.700000000000003, \"GapOQ\": -3.200000000000003, \"GapONEU\": 2.0999999999999943}, {\"geo\": \"CY\", \"GapAll\": 12.400000000000006, \"GapNEU\": 21.200000000000003, \"GapMgr\": 11.900000000000006, \"GapOQ\": null, \"GapONEU\": 8.600000000000009}, {\"geo\": \"CZ\", \"GapAll\": 1.0999999999999943, \"GapNEU\": 6.799999999999997, \"GapMgr\": 1.0999999999999943, \"GapOQ\": -18.700000000000003, \"GapONEU\": 8.799999999999997}, {\"geo\": \"DE\", \"GapAll\": 15.200000000000003, \"GapNEU\": 22.89999999999999, \"GapMgr\": 12.700000000000003, \"GapOQ\": null, \"GapONEU\": 6.1000000000000085}, {\"geo\": \"DK\", \"GapAll\": 6.599999999999994, \"GapNEU\": 8.599999999999994, \"GapMgr\": 5.8999999999999915, \"GapOQ\": null, \"GapONEU\": 9.900000000000006}, {\"geo\": \"EE\", \"GapAll\": 14.200000000000003, \"GapNEU\": 15.0, \"GapMgr\": 11.099999999999994, \"GapOQ\": null, \"GapONEU\": 2.799999999999997}, {\"geo\": \"EL\", \"GapAll\": 15.299999999999997, \"GapNEU\": 19.599999999999994, \"GapMgr\": 8.0, \"GapOQ\": 14.0, \"GapONEU\": 15.900000000000006}, {\"geo\": \"ES\", \"GapAll\": 9.899999999999991, \"GapNEU\": 13.299999999999997, \"GapMgr\": 8.700000000000003, \"GapOQ\": 4.799999999999997, \"GapONEU\": 6.3999999999999915}, {\"geo\": \"EU27_2020\", \"GapAll\": 11.5, \"GapNEU\": 18.099999999999994, \"GapMgr\": 9.5, \"GapOQ\": null, \"GapONEU\": 7.200000000000003}, {\"geo\": \"FI\", \"GapAll\": 9.5, \"GapNEU\": 11.299999999999997, \"GapMgr\": 6.700000000000003, \"GapOQ\": -7.799999999999997, \"GapONEU\": 3.3000000000000114}, {\"geo\": \"FR\", \"GapAll\": 16.10000000000001, \"GapNEU\": 21.80000000000001, \"GapMgr\": 13.200000000000003, \"GapOQ\": null, \"GapONEU\": 5.799999999999997}, {\"geo\": \"HR\", \"GapAll\": -3.200000000000003, \"GapNEU\": 3.5, \"GapMgr\": -4.700000000000003, \"GapOQ\": null, \"GapONEU\": 11.0}, {\"geo\": \"HU\", \"GapAll\": 10.799999999999997, \"GapNEU\": 14.200000000000003, \"GapMgr\": 4.5, \"GapOQ\": null, \"GapONEU\": 1.7000000000000028}, {\"geo\": \"IE\", \"GapAll\": 5.1000000000000085, \"GapNEU\": 7.5, \"GapMgr\": 4.599999999999994, \"GapOQ\": null, \"GapONEU\": null}, {\"geo\": \"IT\", \"GapAll\": 14.200000000000003, \"GapNEU\": 17.0, \"GapMgr\": 12.100000000000009, \"GapOQ\": 11.200000000000003, \"GapONEU\": 3.9000000000000057}, {\"geo\": \"LT\", \"GapAll\": 9.900000000000006, \"GapNEU\": 11.700000000000003, \"GapMgr\": 7.900000000000006, \"GapOQ\": null, \"GapONEU\": 9.200000000000003}, {\"geo\": \"LU\", \"GapAll\": -1.2999999999999972, \"GapNEU\": 7.5, \"GapMgr\": 0.5999999999999943, \"GapOQ\": null, \"GapONEU\": null}, {\"geo\": \"LV\", \"GapAll\": 14.400000000000006, \"GapNEU\": 15.400000000000006, \"GapMgr\": 14.200000000000003, \"GapOQ\": null, \"GapONEU\": 14.0}, {\"geo\": \"MT\", \"GapAll\": 5.700000000000003, \"GapNEU\": 9.099999999999994, \"GapMgr\": 5.200000000000003, \"GapOQ\": null, \"GapONEU\": null}, {\"geo\": \"NL\", \"GapAll\": 8.400000000000006, \"GapNEU\": 20.10000000000001, \"GapMgr\": 8.900000000000006, \"GapOQ\": null, \"GapONEU\": 6.900000000000006}, {\"geo\": \"PL\", \"GapAll\": 8.400000000000006, \"GapNEU\": 9.400000000000006, \"GapMgr\": 6.5, \"GapOQ\": null, \"GapONEU\": 9.799999999999997}, {\"geo\": \"PT\", \"GapAll\": 11.099999999999994, \"GapNEU\": 15.399999999999991, \"GapMgr\": 2.5999999999999943, \"GapOQ\": null, \"GapONEU\": null}, {\"geo\": \"RO\", \"GapAll\": null, \"GapNEU\": null, \"GapMgr\": 16.299999999999997, \"GapOQ\": -6.200000000000003, \"GapONEU\": -6.5}, {\"geo\": \"SE\", \"GapAll\": 10.0, \"GapNEU\": 15.099999999999994, \"GapMgr\": 8.099999999999994, \"GapOQ\": -5.700000000000003, \"GapONEU\": -8.900000000000006}, {\"geo\": \"SI\", \"GapAll\": 13.200000000000003, \"GapNEU\": 17.0, \"GapMgr\": 8.0, \"GapOQ\": null, \"GapONEU\": null}, {\"geo\": \"SK\", \"GapAll\": 1.0, \"GapNEU\": null, \"GapMgr\": 1.3000000000000114, \"GapOQ\": -12.0, \"GapONEU\": null}]}}, {\"mode\": \"vega-lite\"});\n",
       "</script>"
      ],
      "text/plain": [
       "alt.Chart(...)"
      ]
     },
     "execution_count": 37,
     "metadata": {},
     "output_type": "execute_result"
    }
   ],
   "source": [
    "chart_data = gapdata.reset_index()\n",
    "title = alt.TitleParams('Employment gap -- Native vs foreign', anchor='middle')\n",
    "\n",
    "plot = (\n",
    "    alt.Chart(chart_data, title=title)\n",
    "    .mark_bar()\n",
    "    .encode(\n",
    "        x=alt.X(\"geo\", sort=\"y\"),\n",
    "        y=\"GapAll\"))\n",
    "\n",
    "plot.encode(color=alt.condition(alt.datum.geo == \"EU27_2020\", alt.value(\"red\"), alt.value(\"navy\")))"
   ]
  },
  {
   "cell_type": "code",
   "execution_count": 38,
   "id": "2ab40dcb",
   "metadata": {},
   "outputs": [
    {
     "data": {
      "text/html": [
       "\n",
       "<div id=\"altair-viz-5b089f8f34e34e26b51b5e7527f2538c\"></div>\n",
       "<script type=\"text/javascript\">\n",
       "  (function(spec, embedOpt){\n",
       "    let outputDiv = document.currentScript.previousElementSibling;\n",
       "    if (outputDiv.id !== \"altair-viz-5b089f8f34e34e26b51b5e7527f2538c\") {\n",
       "      outputDiv = document.getElementById(\"altair-viz-5b089f8f34e34e26b51b5e7527f2538c\");\n",
       "    }\n",
       "    const paths = {\n",
       "      \"vega\": \"https://cdn.jsdelivr.net/npm//vega@5?noext\",\n",
       "      \"vega-lib\": \"https://cdn.jsdelivr.net/npm//vega-lib?noext\",\n",
       "      \"vega-lite\": \"https://cdn.jsdelivr.net/npm//vega-lite@4.8.1?noext\",\n",
       "      \"vega-embed\": \"https://cdn.jsdelivr.net/npm//vega-embed@6?noext\",\n",
       "    };\n",
       "\n",
       "    function loadScript(lib) {\n",
       "      return new Promise(function(resolve, reject) {\n",
       "        var s = document.createElement('script');\n",
       "        s.src = paths[lib];\n",
       "        s.async = true;\n",
       "        s.onload = () => resolve(paths[lib]);\n",
       "        s.onerror = () => reject(`Error loading script: ${paths[lib]}`);\n",
       "        document.getElementsByTagName(\"head\")[0].appendChild(s);\n",
       "      });\n",
       "    }\n",
       "\n",
       "    function showError(err) {\n",
       "      outputDiv.innerHTML = `<div class=\"error\" style=\"color:red;\">${err}</div>`;\n",
       "      throw err;\n",
       "    }\n",
       "\n",
       "    function displayChart(vegaEmbed) {\n",
       "      vegaEmbed(outputDiv, spec, embedOpt)\n",
       "        .catch(err => showError(`Javascript Error: ${err.message}<br>This usually means there's a typo in your chart specification. See the javascript console for the full traceback.`));\n",
       "    }\n",
       "\n",
       "    if(typeof define === \"function\" && define.amd) {\n",
       "      requirejs.config({paths});\n",
       "      require([\"vega-embed\"], displayChart, err => showError(`Error loading script: ${err.message}`));\n",
       "    } else if (typeof vegaEmbed === \"function\") {\n",
       "      displayChart(vegaEmbed);\n",
       "    } else {\n",
       "      loadScript(\"vega\")\n",
       "        .then(() => loadScript(\"vega-lite\"))\n",
       "        .then(() => loadScript(\"vega-embed\"))\n",
       "        .catch(showError)\n",
       "        .then(() => displayChart(vegaEmbed));\n",
       "    }\n",
       "  })({\"config\": {\"view\": {\"continuousWidth\": 400, \"continuousHeight\": 300}}, \"data\": {\"name\": \"data-5a5fb536f4aa566d0361ada52caa1e1b\"}, \"mark\": \"bar\", \"encoding\": {\"color\": {\"condition\": {\"value\": \"red\", \"test\": \"(datum.geo === 'EU27_2020')\"}, \"value\": \"navy\"}, \"x\": {\"type\": \"nominal\", \"field\": \"geo\", \"sort\": \"y\"}, \"y\": {\"type\": \"quantitative\", \"field\": \"GapNEU\"}}, \"title\": {\"text\": \"Employment gap -- Native vs non-EU\", \"anchor\": \"middle\"}, \"$schema\": \"https://vega.github.io/schema/vega-lite/v4.8.1.json\", \"datasets\": {\"data-5a5fb536f4aa566d0361ada52caa1e1b\": [{\"geo\": \"AT\", \"GapAll\": 8.099999999999994, \"GapNEU\": 18.0, \"GapMgr\": 7.800000000000011, \"GapOQ\": 5.700000000000003, \"GapONEU\": 5.400000000000006}, {\"geo\": \"BE\", \"GapAll\": 6.0, \"GapNEU\": 20.099999999999994, \"GapMgr\": 6.799999999999997, \"GapOQ\": -2.6999999999999886, \"GapONEU\": 12.800000000000011}, {\"geo\": \"BG\", \"GapAll\": null, \"GapNEU\": null, \"GapMgr\": 18.700000000000003, \"GapOQ\": -3.200000000000003, \"GapONEU\": 2.0999999999999943}, {\"geo\": \"CY\", \"GapAll\": 12.400000000000006, \"GapNEU\": 21.200000000000003, \"GapMgr\": 11.900000000000006, \"GapOQ\": null, \"GapONEU\": 8.600000000000009}, {\"geo\": \"CZ\", \"GapAll\": 1.0999999999999943, \"GapNEU\": 6.799999999999997, \"GapMgr\": 1.0999999999999943, \"GapOQ\": -18.700000000000003, \"GapONEU\": 8.799999999999997}, {\"geo\": \"DE\", \"GapAll\": 15.200000000000003, \"GapNEU\": 22.89999999999999, \"GapMgr\": 12.700000000000003, \"GapOQ\": null, \"GapONEU\": 6.1000000000000085}, {\"geo\": \"DK\", \"GapAll\": 6.599999999999994, \"GapNEU\": 8.599999999999994, \"GapMgr\": 5.8999999999999915, \"GapOQ\": null, \"GapONEU\": 9.900000000000006}, {\"geo\": \"EE\", \"GapAll\": 14.200000000000003, \"GapNEU\": 15.0, \"GapMgr\": 11.099999999999994, \"GapOQ\": null, \"GapONEU\": 2.799999999999997}, {\"geo\": \"EL\", \"GapAll\": 15.299999999999997, \"GapNEU\": 19.599999999999994, \"GapMgr\": 8.0, \"GapOQ\": 14.0, \"GapONEU\": 15.900000000000006}, {\"geo\": \"ES\", \"GapAll\": 9.899999999999991, \"GapNEU\": 13.299999999999997, \"GapMgr\": 8.700000000000003, \"GapOQ\": 4.799999999999997, \"GapONEU\": 6.3999999999999915}, {\"geo\": \"EU27_2020\", \"GapAll\": 11.5, \"GapNEU\": 18.099999999999994, \"GapMgr\": 9.5, \"GapOQ\": null, \"GapONEU\": 7.200000000000003}, {\"geo\": \"FI\", \"GapAll\": 9.5, \"GapNEU\": 11.299999999999997, \"GapMgr\": 6.700000000000003, \"GapOQ\": -7.799999999999997, \"GapONEU\": 3.3000000000000114}, {\"geo\": \"FR\", \"GapAll\": 16.10000000000001, \"GapNEU\": 21.80000000000001, \"GapMgr\": 13.200000000000003, \"GapOQ\": null, \"GapONEU\": 5.799999999999997}, {\"geo\": \"HR\", \"GapAll\": -3.200000000000003, \"GapNEU\": 3.5, \"GapMgr\": -4.700000000000003, \"GapOQ\": null, \"GapONEU\": 11.0}, {\"geo\": \"HU\", \"GapAll\": 10.799999999999997, \"GapNEU\": 14.200000000000003, \"GapMgr\": 4.5, \"GapOQ\": null, \"GapONEU\": 1.7000000000000028}, {\"geo\": \"IE\", \"GapAll\": 5.1000000000000085, \"GapNEU\": 7.5, \"GapMgr\": 4.599999999999994, \"GapOQ\": null, \"GapONEU\": null}, {\"geo\": \"IT\", \"GapAll\": 14.200000000000003, \"GapNEU\": 17.0, \"GapMgr\": 12.100000000000009, \"GapOQ\": 11.200000000000003, \"GapONEU\": 3.9000000000000057}, {\"geo\": \"LT\", \"GapAll\": 9.900000000000006, \"GapNEU\": 11.700000000000003, \"GapMgr\": 7.900000000000006, \"GapOQ\": null, \"GapONEU\": 9.200000000000003}, {\"geo\": \"LU\", \"GapAll\": -1.2999999999999972, \"GapNEU\": 7.5, \"GapMgr\": 0.5999999999999943, \"GapOQ\": null, \"GapONEU\": null}, {\"geo\": \"LV\", \"GapAll\": 14.400000000000006, \"GapNEU\": 15.400000000000006, \"GapMgr\": 14.200000000000003, \"GapOQ\": null, \"GapONEU\": 14.0}, {\"geo\": \"MT\", \"GapAll\": 5.700000000000003, \"GapNEU\": 9.099999999999994, \"GapMgr\": 5.200000000000003, \"GapOQ\": null, \"GapONEU\": null}, {\"geo\": \"NL\", \"GapAll\": 8.400000000000006, \"GapNEU\": 20.10000000000001, \"GapMgr\": 8.900000000000006, \"GapOQ\": null, \"GapONEU\": 6.900000000000006}, {\"geo\": \"PL\", \"GapAll\": 8.400000000000006, \"GapNEU\": 9.400000000000006, \"GapMgr\": 6.5, \"GapOQ\": null, \"GapONEU\": 9.799999999999997}, {\"geo\": \"PT\", \"GapAll\": 11.099999999999994, \"GapNEU\": 15.399999999999991, \"GapMgr\": 2.5999999999999943, \"GapOQ\": null, \"GapONEU\": null}, {\"geo\": \"RO\", \"GapAll\": null, \"GapNEU\": null, \"GapMgr\": 16.299999999999997, \"GapOQ\": -6.200000000000003, \"GapONEU\": -6.5}, {\"geo\": \"SE\", \"GapAll\": 10.0, \"GapNEU\": 15.099999999999994, \"GapMgr\": 8.099999999999994, \"GapOQ\": -5.700000000000003, \"GapONEU\": -8.900000000000006}, {\"geo\": \"SI\", \"GapAll\": 13.200000000000003, \"GapNEU\": 17.0, \"GapMgr\": 8.0, \"GapOQ\": null, \"GapONEU\": null}, {\"geo\": \"SK\", \"GapAll\": 1.0, \"GapNEU\": null, \"GapMgr\": 1.3000000000000114, \"GapOQ\": -12.0, \"GapONEU\": null}]}}, {\"mode\": \"vega-lite\"});\n",
       "</script>"
      ],
      "text/plain": [
       "alt.Chart(...)"
      ]
     },
     "execution_count": 38,
     "metadata": {},
     "output_type": "execute_result"
    }
   ],
   "source": [
    "chart_data = gapdata.reset_index()\n",
    "title = alt.TitleParams('Employment gap -- Native vs non-EU', anchor='middle')\n",
    "\n",
    "plot = (\n",
    "    alt.Chart(chart_data, title=title)\n",
    "    .mark_bar()\n",
    "    .encode(\n",
    "        x=alt.X(\"geo\", sort=\"y\"),\n",
    "        y=\"GapNEU\"))\n",
    "\n",
    "plot.encode(color=alt.condition(alt.datum.geo == \"EU27_2020\", alt.value(\"red\"), alt.value(\"navy\")))"
   ]
  },
  {
   "cell_type": "code",
   "execution_count": 39,
   "id": "bedb5169",
   "metadata": {},
   "outputs": [
    {
     "data": {
      "text/html": [
       "\n",
       "<div id=\"altair-viz-b855f599ad6740e099fa5e2613991cc2\"></div>\n",
       "<script type=\"text/javascript\">\n",
       "  (function(spec, embedOpt){\n",
       "    let outputDiv = document.currentScript.previousElementSibling;\n",
       "    if (outputDiv.id !== \"altair-viz-b855f599ad6740e099fa5e2613991cc2\") {\n",
       "      outputDiv = document.getElementById(\"altair-viz-b855f599ad6740e099fa5e2613991cc2\");\n",
       "    }\n",
       "    const paths = {\n",
       "      \"vega\": \"https://cdn.jsdelivr.net/npm//vega@5?noext\",\n",
       "      \"vega-lib\": \"https://cdn.jsdelivr.net/npm//vega-lib?noext\",\n",
       "      \"vega-lite\": \"https://cdn.jsdelivr.net/npm//vega-lite@4.8.1?noext\",\n",
       "      \"vega-embed\": \"https://cdn.jsdelivr.net/npm//vega-embed@6?noext\",\n",
       "    };\n",
       "\n",
       "    function loadScript(lib) {\n",
       "      return new Promise(function(resolve, reject) {\n",
       "        var s = document.createElement('script');\n",
       "        s.src = paths[lib];\n",
       "        s.async = true;\n",
       "        s.onload = () => resolve(paths[lib]);\n",
       "        s.onerror = () => reject(`Error loading script: ${paths[lib]}`);\n",
       "        document.getElementsByTagName(\"head\")[0].appendChild(s);\n",
       "      });\n",
       "    }\n",
       "\n",
       "    function showError(err) {\n",
       "      outputDiv.innerHTML = `<div class=\"error\" style=\"color:red;\">${err}</div>`;\n",
       "      throw err;\n",
       "    }\n",
       "\n",
       "    function displayChart(vegaEmbed) {\n",
       "      vegaEmbed(outputDiv, spec, embedOpt)\n",
       "        .catch(err => showError(`Javascript Error: ${err.message}<br>This usually means there's a typo in your chart specification. See the javascript console for the full traceback.`));\n",
       "    }\n",
       "\n",
       "    if(typeof define === \"function\" && define.amd) {\n",
       "      requirejs.config({paths});\n",
       "      require([\"vega-embed\"], displayChart, err => showError(`Error loading script: ${err.message}`));\n",
       "    } else if (typeof vegaEmbed === \"function\") {\n",
       "      displayChart(vegaEmbed);\n",
       "    } else {\n",
       "      loadScript(\"vega\")\n",
       "        .then(() => loadScript(\"vega-lite\"))\n",
       "        .then(() => loadScript(\"vega-embed\"))\n",
       "        .catch(showError)\n",
       "        .then(() => displayChart(vegaEmbed));\n",
       "    }\n",
       "  })({\"config\": {\"view\": {\"continuousWidth\": 400, \"continuousHeight\": 300}}, \"data\": {\"name\": \"data-5a5fb536f4aa566d0361ada52caa1e1b\"}, \"mark\": \"bar\", \"encoding\": {\"color\": {\"condition\": {\"value\": \"red\", \"test\": \"(datum.geo === 'EU27_2020')\"}, \"value\": \"navy\"}, \"x\": {\"type\": \"nominal\", \"field\": \"geo\", \"sort\": \"y\"}, \"y\": {\"type\": \"quantitative\", \"field\": \"GapMgr\"}}, \"title\": {\"text\": \"Employment gap -- Native vs foreign born\", \"anchor\": \"middle\"}, \"$schema\": \"https://vega.github.io/schema/vega-lite/v4.8.1.json\", \"datasets\": {\"data-5a5fb536f4aa566d0361ada52caa1e1b\": [{\"geo\": \"AT\", \"GapAll\": 8.099999999999994, \"GapNEU\": 18.0, \"GapMgr\": 7.800000000000011, \"GapOQ\": 5.700000000000003, \"GapONEU\": 5.400000000000006}, {\"geo\": \"BE\", \"GapAll\": 6.0, \"GapNEU\": 20.099999999999994, \"GapMgr\": 6.799999999999997, \"GapOQ\": -2.6999999999999886, \"GapONEU\": 12.800000000000011}, {\"geo\": \"BG\", \"GapAll\": null, \"GapNEU\": null, \"GapMgr\": 18.700000000000003, \"GapOQ\": -3.200000000000003, \"GapONEU\": 2.0999999999999943}, {\"geo\": \"CY\", \"GapAll\": 12.400000000000006, \"GapNEU\": 21.200000000000003, \"GapMgr\": 11.900000000000006, \"GapOQ\": null, \"GapONEU\": 8.600000000000009}, {\"geo\": \"CZ\", \"GapAll\": 1.0999999999999943, \"GapNEU\": 6.799999999999997, \"GapMgr\": 1.0999999999999943, \"GapOQ\": -18.700000000000003, \"GapONEU\": 8.799999999999997}, {\"geo\": \"DE\", \"GapAll\": 15.200000000000003, \"GapNEU\": 22.89999999999999, \"GapMgr\": 12.700000000000003, \"GapOQ\": null, \"GapONEU\": 6.1000000000000085}, {\"geo\": \"DK\", \"GapAll\": 6.599999999999994, \"GapNEU\": 8.599999999999994, \"GapMgr\": 5.8999999999999915, \"GapOQ\": null, \"GapONEU\": 9.900000000000006}, {\"geo\": \"EE\", \"GapAll\": 14.200000000000003, \"GapNEU\": 15.0, \"GapMgr\": 11.099999999999994, \"GapOQ\": null, \"GapONEU\": 2.799999999999997}, {\"geo\": \"EL\", \"GapAll\": 15.299999999999997, \"GapNEU\": 19.599999999999994, \"GapMgr\": 8.0, \"GapOQ\": 14.0, \"GapONEU\": 15.900000000000006}, {\"geo\": \"ES\", \"GapAll\": 9.899999999999991, \"GapNEU\": 13.299999999999997, \"GapMgr\": 8.700000000000003, \"GapOQ\": 4.799999999999997, \"GapONEU\": 6.3999999999999915}, {\"geo\": \"EU27_2020\", \"GapAll\": 11.5, \"GapNEU\": 18.099999999999994, \"GapMgr\": 9.5, \"GapOQ\": null, \"GapONEU\": 7.200000000000003}, {\"geo\": \"FI\", \"GapAll\": 9.5, \"GapNEU\": 11.299999999999997, \"GapMgr\": 6.700000000000003, \"GapOQ\": -7.799999999999997, \"GapONEU\": 3.3000000000000114}, {\"geo\": \"FR\", \"GapAll\": 16.10000000000001, \"GapNEU\": 21.80000000000001, \"GapMgr\": 13.200000000000003, \"GapOQ\": null, \"GapONEU\": 5.799999999999997}, {\"geo\": \"HR\", \"GapAll\": -3.200000000000003, \"GapNEU\": 3.5, \"GapMgr\": -4.700000000000003, \"GapOQ\": null, \"GapONEU\": 11.0}, {\"geo\": \"HU\", \"GapAll\": 10.799999999999997, \"GapNEU\": 14.200000000000003, \"GapMgr\": 4.5, \"GapOQ\": null, \"GapONEU\": 1.7000000000000028}, {\"geo\": \"IE\", \"GapAll\": 5.1000000000000085, \"GapNEU\": 7.5, \"GapMgr\": 4.599999999999994, \"GapOQ\": null, \"GapONEU\": null}, {\"geo\": \"IT\", \"GapAll\": 14.200000000000003, \"GapNEU\": 17.0, \"GapMgr\": 12.100000000000009, \"GapOQ\": 11.200000000000003, \"GapONEU\": 3.9000000000000057}, {\"geo\": \"LT\", \"GapAll\": 9.900000000000006, \"GapNEU\": 11.700000000000003, \"GapMgr\": 7.900000000000006, \"GapOQ\": null, \"GapONEU\": 9.200000000000003}, {\"geo\": \"LU\", \"GapAll\": -1.2999999999999972, \"GapNEU\": 7.5, \"GapMgr\": 0.5999999999999943, \"GapOQ\": null, \"GapONEU\": null}, {\"geo\": \"LV\", \"GapAll\": 14.400000000000006, \"GapNEU\": 15.400000000000006, \"GapMgr\": 14.200000000000003, \"GapOQ\": null, \"GapONEU\": 14.0}, {\"geo\": \"MT\", \"GapAll\": 5.700000000000003, \"GapNEU\": 9.099999999999994, \"GapMgr\": 5.200000000000003, \"GapOQ\": null, \"GapONEU\": null}, {\"geo\": \"NL\", \"GapAll\": 8.400000000000006, \"GapNEU\": 20.10000000000001, \"GapMgr\": 8.900000000000006, \"GapOQ\": null, \"GapONEU\": 6.900000000000006}, {\"geo\": \"PL\", \"GapAll\": 8.400000000000006, \"GapNEU\": 9.400000000000006, \"GapMgr\": 6.5, \"GapOQ\": null, \"GapONEU\": 9.799999999999997}, {\"geo\": \"PT\", \"GapAll\": 11.099999999999994, \"GapNEU\": 15.399999999999991, \"GapMgr\": 2.5999999999999943, \"GapOQ\": null, \"GapONEU\": null}, {\"geo\": \"RO\", \"GapAll\": null, \"GapNEU\": null, \"GapMgr\": 16.299999999999997, \"GapOQ\": -6.200000000000003, \"GapONEU\": -6.5}, {\"geo\": \"SE\", \"GapAll\": 10.0, \"GapNEU\": 15.099999999999994, \"GapMgr\": 8.099999999999994, \"GapOQ\": -5.700000000000003, \"GapONEU\": -8.900000000000006}, {\"geo\": \"SI\", \"GapAll\": 13.200000000000003, \"GapNEU\": 17.0, \"GapMgr\": 8.0, \"GapOQ\": null, \"GapONEU\": null}, {\"geo\": \"SK\", \"GapAll\": 1.0, \"GapNEU\": null, \"GapMgr\": 1.3000000000000114, \"GapOQ\": -12.0, \"GapONEU\": null}]}}, {\"mode\": \"vega-lite\"});\n",
       "</script>"
      ],
      "text/plain": [
       "alt.Chart(...)"
      ]
     },
     "execution_count": 39,
     "metadata": {},
     "output_type": "execute_result"
    }
   ],
   "source": [
    "chart_data = gapdata.reset_index()\n",
    "title = alt.TitleParams('Employment gap -- Native vs foreign born', anchor='middle')\n",
    "\n",
    "plot = (\n",
    "    alt.Chart(chart_data, title=title)\n",
    "    .mark_bar()\n",
    "    .encode(\n",
    "        x=alt.X(\"geo\", sort=\"y\"),\n",
    "        y=\"GapMgr\"))\n",
    "\n",
    "plot.encode(color=alt.condition(alt.datum.geo == \"EU27_2020\", alt.value(\"red\"), alt.value(\"navy\")))"
   ]
  },
  {
   "cell_type": "code",
   "execution_count": 40,
   "id": "e830969c",
   "metadata": {},
   "outputs": [
    {
     "data": {
      "text/html": [
       "\n",
       "<div id=\"altair-viz-221984675cac43019f9c444d217d5f64\"></div>\n",
       "<script type=\"text/javascript\">\n",
       "  (function(spec, embedOpt){\n",
       "    let outputDiv = document.currentScript.previousElementSibling;\n",
       "    if (outputDiv.id !== \"altair-viz-221984675cac43019f9c444d217d5f64\") {\n",
       "      outputDiv = document.getElementById(\"altair-viz-221984675cac43019f9c444d217d5f64\");\n",
       "    }\n",
       "    const paths = {\n",
       "      \"vega\": \"https://cdn.jsdelivr.net/npm//vega@5?noext\",\n",
       "      \"vega-lib\": \"https://cdn.jsdelivr.net/npm//vega-lib?noext\",\n",
       "      \"vega-lite\": \"https://cdn.jsdelivr.net/npm//vega-lite@4.8.1?noext\",\n",
       "      \"vega-embed\": \"https://cdn.jsdelivr.net/npm//vega-embed@6?noext\",\n",
       "    };\n",
       "\n",
       "    function loadScript(lib) {\n",
       "      return new Promise(function(resolve, reject) {\n",
       "        var s = document.createElement('script');\n",
       "        s.src = paths[lib];\n",
       "        s.async = true;\n",
       "        s.onload = () => resolve(paths[lib]);\n",
       "        s.onerror = () => reject(`Error loading script: ${paths[lib]}`);\n",
       "        document.getElementsByTagName(\"head\")[0].appendChild(s);\n",
       "      });\n",
       "    }\n",
       "\n",
       "    function showError(err) {\n",
       "      outputDiv.innerHTML = `<div class=\"error\" style=\"color:red;\">${err}</div>`;\n",
       "      throw err;\n",
       "    }\n",
       "\n",
       "    function displayChart(vegaEmbed) {\n",
       "      vegaEmbed(outputDiv, spec, embedOpt)\n",
       "        .catch(err => showError(`Javascript Error: ${err.message}<br>This usually means there's a typo in your chart specification. See the javascript console for the full traceback.`));\n",
       "    }\n",
       "\n",
       "    if(typeof define === \"function\" && define.amd) {\n",
       "      requirejs.config({paths});\n",
       "      require([\"vega-embed\"], displayChart, err => showError(`Error loading script: ${err.message}`));\n",
       "    } else if (typeof vegaEmbed === \"function\") {\n",
       "      displayChart(vegaEmbed);\n",
       "    } else {\n",
       "      loadScript(\"vega\")\n",
       "        .then(() => loadScript(\"vega-lite\"))\n",
       "        .then(() => loadScript(\"vega-embed\"))\n",
       "        .catch(showError)\n",
       "        .then(() => displayChart(vegaEmbed));\n",
       "    }\n",
       "  })({\"config\": {\"view\": {\"continuousWidth\": 400, \"continuousHeight\": 300}}, \"data\": {\"name\": \"data-5a5fb536f4aa566d0361ada52caa1e1b\"}, \"mark\": \"bar\", \"encoding\": {\"color\": {\"condition\": {\"value\": \"red\", \"test\": \"(datum.geo === 'EU27_2020')\"}, \"value\": \"navy\"}, \"x\": {\"type\": \"nominal\", \"field\": \"geo\", \"sort\": \"y\"}, \"y\": {\"type\": \"quantitative\", \"field\": \"GapOQ\"}}, \"title\": {\"text\": \"Overqualification gap -- Native vs foreign\", \"anchor\": \"middle\"}, \"$schema\": \"https://vega.github.io/schema/vega-lite/v4.8.1.json\", \"datasets\": {\"data-5a5fb536f4aa566d0361ada52caa1e1b\": [{\"geo\": \"AT\", \"GapAll\": 8.099999999999994, \"GapNEU\": 18.0, \"GapMgr\": 7.800000000000011, \"GapOQ\": 5.700000000000003, \"GapONEU\": 5.400000000000006}, {\"geo\": \"BE\", \"GapAll\": 6.0, \"GapNEU\": 20.099999999999994, \"GapMgr\": 6.799999999999997, \"GapOQ\": -2.6999999999999886, \"GapONEU\": 12.800000000000011}, {\"geo\": \"BG\", \"GapAll\": null, \"GapNEU\": null, \"GapMgr\": 18.700000000000003, \"GapOQ\": -3.200000000000003, \"GapONEU\": 2.0999999999999943}, {\"geo\": \"CY\", \"GapAll\": 12.400000000000006, \"GapNEU\": 21.200000000000003, \"GapMgr\": 11.900000000000006, \"GapOQ\": null, \"GapONEU\": 8.600000000000009}, {\"geo\": \"CZ\", \"GapAll\": 1.0999999999999943, \"GapNEU\": 6.799999999999997, \"GapMgr\": 1.0999999999999943, \"GapOQ\": -18.700000000000003, \"GapONEU\": 8.799999999999997}, {\"geo\": \"DE\", \"GapAll\": 15.200000000000003, \"GapNEU\": 22.89999999999999, \"GapMgr\": 12.700000000000003, \"GapOQ\": null, \"GapONEU\": 6.1000000000000085}, {\"geo\": \"DK\", \"GapAll\": 6.599999999999994, \"GapNEU\": 8.599999999999994, \"GapMgr\": 5.8999999999999915, \"GapOQ\": null, \"GapONEU\": 9.900000000000006}, {\"geo\": \"EE\", \"GapAll\": 14.200000000000003, \"GapNEU\": 15.0, \"GapMgr\": 11.099999999999994, \"GapOQ\": null, \"GapONEU\": 2.799999999999997}, {\"geo\": \"EL\", \"GapAll\": 15.299999999999997, \"GapNEU\": 19.599999999999994, \"GapMgr\": 8.0, \"GapOQ\": 14.0, \"GapONEU\": 15.900000000000006}, {\"geo\": \"ES\", \"GapAll\": 9.899999999999991, \"GapNEU\": 13.299999999999997, \"GapMgr\": 8.700000000000003, \"GapOQ\": 4.799999999999997, \"GapONEU\": 6.3999999999999915}, {\"geo\": \"EU27_2020\", \"GapAll\": 11.5, \"GapNEU\": 18.099999999999994, \"GapMgr\": 9.5, \"GapOQ\": null, \"GapONEU\": 7.200000000000003}, {\"geo\": \"FI\", \"GapAll\": 9.5, \"GapNEU\": 11.299999999999997, \"GapMgr\": 6.700000000000003, \"GapOQ\": -7.799999999999997, \"GapONEU\": 3.3000000000000114}, {\"geo\": \"FR\", \"GapAll\": 16.10000000000001, \"GapNEU\": 21.80000000000001, \"GapMgr\": 13.200000000000003, \"GapOQ\": null, \"GapONEU\": 5.799999999999997}, {\"geo\": \"HR\", \"GapAll\": -3.200000000000003, \"GapNEU\": 3.5, \"GapMgr\": -4.700000000000003, \"GapOQ\": null, \"GapONEU\": 11.0}, {\"geo\": \"HU\", \"GapAll\": 10.799999999999997, \"GapNEU\": 14.200000000000003, \"GapMgr\": 4.5, \"GapOQ\": null, \"GapONEU\": 1.7000000000000028}, {\"geo\": \"IE\", \"GapAll\": 5.1000000000000085, \"GapNEU\": 7.5, \"GapMgr\": 4.599999999999994, \"GapOQ\": null, \"GapONEU\": null}, {\"geo\": \"IT\", \"GapAll\": 14.200000000000003, \"GapNEU\": 17.0, \"GapMgr\": 12.100000000000009, \"GapOQ\": 11.200000000000003, \"GapONEU\": 3.9000000000000057}, {\"geo\": \"LT\", \"GapAll\": 9.900000000000006, \"GapNEU\": 11.700000000000003, \"GapMgr\": 7.900000000000006, \"GapOQ\": null, \"GapONEU\": 9.200000000000003}, {\"geo\": \"LU\", \"GapAll\": -1.2999999999999972, \"GapNEU\": 7.5, \"GapMgr\": 0.5999999999999943, \"GapOQ\": null, \"GapONEU\": null}, {\"geo\": \"LV\", \"GapAll\": 14.400000000000006, \"GapNEU\": 15.400000000000006, \"GapMgr\": 14.200000000000003, \"GapOQ\": null, \"GapONEU\": 14.0}, {\"geo\": \"MT\", \"GapAll\": 5.700000000000003, \"GapNEU\": 9.099999999999994, \"GapMgr\": 5.200000000000003, \"GapOQ\": null, \"GapONEU\": null}, {\"geo\": \"NL\", \"GapAll\": 8.400000000000006, \"GapNEU\": 20.10000000000001, \"GapMgr\": 8.900000000000006, \"GapOQ\": null, \"GapONEU\": 6.900000000000006}, {\"geo\": \"PL\", \"GapAll\": 8.400000000000006, \"GapNEU\": 9.400000000000006, \"GapMgr\": 6.5, \"GapOQ\": null, \"GapONEU\": 9.799999999999997}, {\"geo\": \"PT\", \"GapAll\": 11.099999999999994, \"GapNEU\": 15.399999999999991, \"GapMgr\": 2.5999999999999943, \"GapOQ\": null, \"GapONEU\": null}, {\"geo\": \"RO\", \"GapAll\": null, \"GapNEU\": null, \"GapMgr\": 16.299999999999997, \"GapOQ\": -6.200000000000003, \"GapONEU\": -6.5}, {\"geo\": \"SE\", \"GapAll\": 10.0, \"GapNEU\": 15.099999999999994, \"GapMgr\": 8.099999999999994, \"GapOQ\": -5.700000000000003, \"GapONEU\": -8.900000000000006}, {\"geo\": \"SI\", \"GapAll\": 13.200000000000003, \"GapNEU\": 17.0, \"GapMgr\": 8.0, \"GapOQ\": null, \"GapONEU\": null}, {\"geo\": \"SK\", \"GapAll\": 1.0, \"GapNEU\": null, \"GapMgr\": 1.3000000000000114, \"GapOQ\": -12.0, \"GapONEU\": null}]}}, {\"mode\": \"vega-lite\"});\n",
       "</script>"
      ],
      "text/plain": [
       "alt.Chart(...)"
      ]
     },
     "execution_count": 40,
     "metadata": {},
     "output_type": "execute_result"
    }
   ],
   "source": [
    "chart_data = gapdata.reset_index()\n",
    "title = alt.TitleParams('Overqualification gap -- Native vs foreign', anchor='middle')\n",
    "\n",
    "plot = (\n",
    "    alt.Chart(chart_data, title=title)\n",
    "    .mark_bar()\n",
    "    .encode(\n",
    "        x=alt.X(\"geo\", sort=\"y\"),\n",
    "        y=\"GapOQ\"))\n",
    "\n",
    "plot.encode(color=alt.condition(alt.datum.geo == \"EU27_2020\", alt.value(\"red\"), alt.value(\"navy\")))"
   ]
  },
  {
   "cell_type": "code",
   "execution_count": 41,
   "id": "e7f0ac91",
   "metadata": {},
   "outputs": [
    {
     "data": {
      "text/html": [
       "\n",
       "<div id=\"altair-viz-f37511cc29194ae1b72fa4585414c031\"></div>\n",
       "<script type=\"text/javascript\">\n",
       "  (function(spec, embedOpt){\n",
       "    let outputDiv = document.currentScript.previousElementSibling;\n",
       "    if (outputDiv.id !== \"altair-viz-f37511cc29194ae1b72fa4585414c031\") {\n",
       "      outputDiv = document.getElementById(\"altair-viz-f37511cc29194ae1b72fa4585414c031\");\n",
       "    }\n",
       "    const paths = {\n",
       "      \"vega\": \"https://cdn.jsdelivr.net/npm//vega@5?noext\",\n",
       "      \"vega-lib\": \"https://cdn.jsdelivr.net/npm//vega-lib?noext\",\n",
       "      \"vega-lite\": \"https://cdn.jsdelivr.net/npm//vega-lite@4.8.1?noext\",\n",
       "      \"vega-embed\": \"https://cdn.jsdelivr.net/npm//vega-embed@6?noext\",\n",
       "    };\n",
       "\n",
       "    function loadScript(lib) {\n",
       "      return new Promise(function(resolve, reject) {\n",
       "        var s = document.createElement('script');\n",
       "        s.src = paths[lib];\n",
       "        s.async = true;\n",
       "        s.onload = () => resolve(paths[lib]);\n",
       "        s.onerror = () => reject(`Error loading script: ${paths[lib]}`);\n",
       "        document.getElementsByTagName(\"head\")[0].appendChild(s);\n",
       "      });\n",
       "    }\n",
       "\n",
       "    function showError(err) {\n",
       "      outputDiv.innerHTML = `<div class=\"error\" style=\"color:red;\">${err}</div>`;\n",
       "      throw err;\n",
       "    }\n",
       "\n",
       "    function displayChart(vegaEmbed) {\n",
       "      vegaEmbed(outputDiv, spec, embedOpt)\n",
       "        .catch(err => showError(`Javascript Error: ${err.message}<br>This usually means there's a typo in your chart specification. See the javascript console for the full traceback.`));\n",
       "    }\n",
       "\n",
       "    if(typeof define === \"function\" && define.amd) {\n",
       "      requirejs.config({paths});\n",
       "      require([\"vega-embed\"], displayChart, err => showError(`Error loading script: ${err.message}`));\n",
       "    } else if (typeof vegaEmbed === \"function\") {\n",
       "      displayChart(vegaEmbed);\n",
       "    } else {\n",
       "      loadScript(\"vega\")\n",
       "        .then(() => loadScript(\"vega-lite\"))\n",
       "        .then(() => loadScript(\"vega-embed\"))\n",
       "        .catch(showError)\n",
       "        .then(() => displayChart(vegaEmbed));\n",
       "    }\n",
       "  })({\"config\": {\"view\": {\"continuousWidth\": 400, \"continuousHeight\": 300}}, \"data\": {\"name\": \"data-5a5fb536f4aa566d0361ada52caa1e1b\"}, \"mark\": \"bar\", \"encoding\": {\"color\": {\"condition\": {\"value\": \"red\", \"test\": \"(datum.geo === 'EU27_2020')\"}, \"value\": \"navy\"}, \"x\": {\"type\": \"nominal\", \"field\": \"geo\", \"sort\": \"y\"}, \"y\": {\"type\": \"quantitative\", \"field\": \"GapONEU\"}}, \"title\": {\"text\": \"Overqualification gap -- Native vs non-EU\", \"anchor\": \"middle\"}, \"$schema\": \"https://vega.github.io/schema/vega-lite/v4.8.1.json\", \"datasets\": {\"data-5a5fb536f4aa566d0361ada52caa1e1b\": [{\"geo\": \"AT\", \"GapAll\": 8.099999999999994, \"GapNEU\": 18.0, \"GapMgr\": 7.800000000000011, \"GapOQ\": 5.700000000000003, \"GapONEU\": 5.400000000000006}, {\"geo\": \"BE\", \"GapAll\": 6.0, \"GapNEU\": 20.099999999999994, \"GapMgr\": 6.799999999999997, \"GapOQ\": -2.6999999999999886, \"GapONEU\": 12.800000000000011}, {\"geo\": \"BG\", \"GapAll\": null, \"GapNEU\": null, \"GapMgr\": 18.700000000000003, \"GapOQ\": -3.200000000000003, \"GapONEU\": 2.0999999999999943}, {\"geo\": \"CY\", \"GapAll\": 12.400000000000006, \"GapNEU\": 21.200000000000003, \"GapMgr\": 11.900000000000006, \"GapOQ\": null, \"GapONEU\": 8.600000000000009}, {\"geo\": \"CZ\", \"GapAll\": 1.0999999999999943, \"GapNEU\": 6.799999999999997, \"GapMgr\": 1.0999999999999943, \"GapOQ\": -18.700000000000003, \"GapONEU\": 8.799999999999997}, {\"geo\": \"DE\", \"GapAll\": 15.200000000000003, \"GapNEU\": 22.89999999999999, \"GapMgr\": 12.700000000000003, \"GapOQ\": null, \"GapONEU\": 6.1000000000000085}, {\"geo\": \"DK\", \"GapAll\": 6.599999999999994, \"GapNEU\": 8.599999999999994, \"GapMgr\": 5.8999999999999915, \"GapOQ\": null, \"GapONEU\": 9.900000000000006}, {\"geo\": \"EE\", \"GapAll\": 14.200000000000003, \"GapNEU\": 15.0, \"GapMgr\": 11.099999999999994, \"GapOQ\": null, \"GapONEU\": 2.799999999999997}, {\"geo\": \"EL\", \"GapAll\": 15.299999999999997, \"GapNEU\": 19.599999999999994, \"GapMgr\": 8.0, \"GapOQ\": 14.0, \"GapONEU\": 15.900000000000006}, {\"geo\": \"ES\", \"GapAll\": 9.899999999999991, \"GapNEU\": 13.299999999999997, \"GapMgr\": 8.700000000000003, \"GapOQ\": 4.799999999999997, \"GapONEU\": 6.3999999999999915}, {\"geo\": \"EU27_2020\", \"GapAll\": 11.5, \"GapNEU\": 18.099999999999994, \"GapMgr\": 9.5, \"GapOQ\": null, \"GapONEU\": 7.200000000000003}, {\"geo\": \"FI\", \"GapAll\": 9.5, \"GapNEU\": 11.299999999999997, \"GapMgr\": 6.700000000000003, \"GapOQ\": -7.799999999999997, \"GapONEU\": 3.3000000000000114}, {\"geo\": \"FR\", \"GapAll\": 16.10000000000001, \"GapNEU\": 21.80000000000001, \"GapMgr\": 13.200000000000003, \"GapOQ\": null, \"GapONEU\": 5.799999999999997}, {\"geo\": \"HR\", \"GapAll\": -3.200000000000003, \"GapNEU\": 3.5, \"GapMgr\": -4.700000000000003, \"GapOQ\": null, \"GapONEU\": 11.0}, {\"geo\": \"HU\", \"GapAll\": 10.799999999999997, \"GapNEU\": 14.200000000000003, \"GapMgr\": 4.5, \"GapOQ\": null, \"GapONEU\": 1.7000000000000028}, {\"geo\": \"IE\", \"GapAll\": 5.1000000000000085, \"GapNEU\": 7.5, \"GapMgr\": 4.599999999999994, \"GapOQ\": null, \"GapONEU\": null}, {\"geo\": \"IT\", \"GapAll\": 14.200000000000003, \"GapNEU\": 17.0, \"GapMgr\": 12.100000000000009, \"GapOQ\": 11.200000000000003, \"GapONEU\": 3.9000000000000057}, {\"geo\": \"LT\", \"GapAll\": 9.900000000000006, \"GapNEU\": 11.700000000000003, \"GapMgr\": 7.900000000000006, \"GapOQ\": null, \"GapONEU\": 9.200000000000003}, {\"geo\": \"LU\", \"GapAll\": -1.2999999999999972, \"GapNEU\": 7.5, \"GapMgr\": 0.5999999999999943, \"GapOQ\": null, \"GapONEU\": null}, {\"geo\": \"LV\", \"GapAll\": 14.400000000000006, \"GapNEU\": 15.400000000000006, \"GapMgr\": 14.200000000000003, \"GapOQ\": null, \"GapONEU\": 14.0}, {\"geo\": \"MT\", \"GapAll\": 5.700000000000003, \"GapNEU\": 9.099999999999994, \"GapMgr\": 5.200000000000003, \"GapOQ\": null, \"GapONEU\": null}, {\"geo\": \"NL\", \"GapAll\": 8.400000000000006, \"GapNEU\": 20.10000000000001, \"GapMgr\": 8.900000000000006, \"GapOQ\": null, \"GapONEU\": 6.900000000000006}, {\"geo\": \"PL\", \"GapAll\": 8.400000000000006, \"GapNEU\": 9.400000000000006, \"GapMgr\": 6.5, \"GapOQ\": null, \"GapONEU\": 9.799999999999997}, {\"geo\": \"PT\", \"GapAll\": 11.099999999999994, \"GapNEU\": 15.399999999999991, \"GapMgr\": 2.5999999999999943, \"GapOQ\": null, \"GapONEU\": null}, {\"geo\": \"RO\", \"GapAll\": null, \"GapNEU\": null, \"GapMgr\": 16.299999999999997, \"GapOQ\": -6.200000000000003, \"GapONEU\": -6.5}, {\"geo\": \"SE\", \"GapAll\": 10.0, \"GapNEU\": 15.099999999999994, \"GapMgr\": 8.099999999999994, \"GapOQ\": -5.700000000000003, \"GapONEU\": -8.900000000000006}, {\"geo\": \"SI\", \"GapAll\": 13.200000000000003, \"GapNEU\": 17.0, \"GapMgr\": 8.0, \"GapOQ\": null, \"GapONEU\": null}, {\"geo\": \"SK\", \"GapAll\": 1.0, \"GapNEU\": null, \"GapMgr\": 1.3000000000000114, \"GapOQ\": -12.0, \"GapONEU\": null}]}}, {\"mode\": \"vega-lite\"});\n",
       "</script>"
      ],
      "text/plain": [
       "alt.Chart(...)"
      ]
     },
     "execution_count": 41,
     "metadata": {},
     "output_type": "execute_result"
    }
   ],
   "source": [
    "chart_data = gapdata.reset_index()\n",
    "title = alt.TitleParams('Overqualification gap -- Native vs non-EU', anchor='middle')\n",
    "\n",
    "plot = (\n",
    "    alt.Chart(chart_data, title=title)\n",
    "    .mark_bar()\n",
    "    .encode(\n",
    "        x=alt.X(\"geo\", sort=\"y\"),\n",
    "        y=\"GapONEU\"))\n",
    "\n",
    "plot.encode(color=alt.condition(alt.datum.geo == \"EU27_2020\", alt.value(\"red\"), alt.value(\"navy\")))"
   ]
  },
  {
   "cell_type": "markdown",
   "id": "3e8e14eb",
   "metadata": {},
   "source": [
    "# 6. Save the files"
   ]
  },
  {
   "cell_type": "code",
   "execution_count": 42,
   "id": "6006f0eb",
   "metadata": {},
   "outputs": [],
   "source": [
    "gapdata.to_csv(\"gapsatwork.csv\")"
   ]
  },
  {
   "cell_type": "code",
   "execution_count": 43,
   "id": "719f1f06",
   "metadata": {},
   "outputs": [],
   "source": [
    "vac.to_csv(\"vacancyrates.csv\")"
   ]
  },
  {
   "cell_type": "code",
   "execution_count": null,
   "id": "9612c5da",
   "metadata": {},
   "outputs": [],
   "source": []
  }
 ],
 "metadata": {
  "kernelspec": {
   "display_name": "Python 3 (ipykernel)",
   "language": "python",
   "name": "python3"
  },
  "language_info": {
   "codemirror_mode": {
    "name": "ipython",
    "version": 3
   },
   "file_extension": ".py",
   "mimetype": "text/x-python",
   "name": "python",
   "nbconvert_exporter": "python",
   "pygments_lexer": "ipython3",
   "version": "3.11.0"
  }
 },
 "nbformat": 4,
 "nbformat_minor": 5
}
